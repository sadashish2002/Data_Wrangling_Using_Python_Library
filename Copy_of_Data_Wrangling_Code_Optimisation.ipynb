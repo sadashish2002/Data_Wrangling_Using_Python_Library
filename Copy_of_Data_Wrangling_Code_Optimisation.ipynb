{
  "nbformat": 4,
  "nbformat_minor": 0,
  "metadata": {
    "colab": {
      "provenance": [],
      "collapsed_sections": [
        "F9i94uirg2Yg",
        "z6VJ8Phodljd",
        "mNiFWmlVZ88w",
        "vHZpE9CeaAG-",
        "ah_Sp4RwhVF_",
        "9CCw4rPwhTEg"
      ],
      "include_colab_link": true
    },
    "kernelspec": {
      "name": "python3",
      "display_name": "Python 3"
    },
    "language_info": {
      "name": "python"
    },
    "widgets": {
      "application/vnd.jupyter.widget-state+json": {
        "a97653062c3043669fb12a1af8870f96": {
          "model_module": "@jupyter-widgets/controls",
          "model_name": "VBoxModel",
          "model_module_version": "1.5.0",
          "state": {
            "_dom_classes": [],
            "_model_module": "@jupyter-widgets/controls",
            "_model_module_version": "1.5.0",
            "_model_name": "VBoxModel",
            "_view_count": null,
            "_view_module": "@jupyter-widgets/controls",
            "_view_module_version": "1.5.0",
            "_view_name": "VBoxView",
            "box_style": "",
            "children": [
              "IPY_MODEL_9c248e2659e34907a3c73fda66a3710f",
              "IPY_MODEL_387d55f3c2dd43aaa23b562fccf4a03a",
              "IPY_MODEL_c2d8f3e1d89d4d0c866614f2780393cd",
              "IPY_MODEL_b0b373b22a5243539224793dee685bc3",
              "IPY_MODEL_859bdf238f1e40a597d4e6643c9a8edf"
            ],
            "layout": "IPY_MODEL_fc7631e7cf6a47c584c750d23ea65f66"
          }
        },
        "9c248e2659e34907a3c73fda66a3710f": {
          "model_module": "@jupyter-widgets/controls",
          "model_name": "HBoxModel",
          "model_module_version": "1.5.0",
          "state": {
            "_dom_classes": [],
            "_model_module": "@jupyter-widgets/controls",
            "_model_module_version": "1.5.0",
            "_model_name": "HBoxModel",
            "_view_count": null,
            "_view_module": "@jupyter-widgets/controls",
            "_view_module_version": "1.5.0",
            "_view_name": "HBoxView",
            "box_style": "",
            "children": [
              "IPY_MODEL_9b7f963280c440bdbc003659139c6131",
              "IPY_MODEL_56ce850be37748bfa37a194e726a2a31"
            ],
            "layout": "IPY_MODEL_88da6f8c48bc4aa29e0b3461f91db3bd"
          }
        },
        "387d55f3c2dd43aaa23b562fccf4a03a": {
          "model_module": "@jupyter-widgets/controls",
          "model_name": "HBoxModel",
          "model_module_version": "1.5.0",
          "state": {
            "_dom_classes": [],
            "_model_module": "@jupyter-widgets/controls",
            "_model_module_version": "1.5.0",
            "_model_name": "HBoxModel",
            "_view_count": null,
            "_view_module": "@jupyter-widgets/controls",
            "_view_module_version": "1.5.0",
            "_view_name": "HBoxView",
            "box_style": "",
            "children": [
              "IPY_MODEL_3610decf4ee74df6ac36a5cf2cf7d35a",
              "IPY_MODEL_b88568f0fa8d4af5a4842a9144f88e8b"
            ],
            "layout": "IPY_MODEL_d546d06633af4e479ab1edece31b0cbb"
          }
        },
        "c2d8f3e1d89d4d0c866614f2780393cd": {
          "model_module": "@jupyter-widgets/controls",
          "model_name": "HBoxModel",
          "model_module_version": "1.5.0",
          "state": {
            "_dom_classes": [],
            "_model_module": "@jupyter-widgets/controls",
            "_model_module_version": "1.5.0",
            "_model_name": "HBoxModel",
            "_view_count": null,
            "_view_module": "@jupyter-widgets/controls",
            "_view_module_version": "1.5.0",
            "_view_name": "HBoxView",
            "box_style": "",
            "children": [
              "IPY_MODEL_d1b95238083649c693701a5a39d4ad26",
              "IPY_MODEL_3dd37a287b6148bda8ee5e57a5be2228"
            ],
            "layout": "IPY_MODEL_9db06a3a7e9b41629ad576018a63a3f2"
          }
        },
        "b0b373b22a5243539224793dee685bc3": {
          "model_module": "@jupyter-widgets/controls",
          "model_name": "HBoxModel",
          "model_module_version": "1.5.0",
          "state": {
            "_dom_classes": [],
            "_model_module": "@jupyter-widgets/controls",
            "_model_module_version": "1.5.0",
            "_model_name": "HBoxModel",
            "_view_count": null,
            "_view_module": "@jupyter-widgets/controls",
            "_view_module_version": "1.5.0",
            "_view_name": "HBoxView",
            "box_style": "",
            "children": [
              "IPY_MODEL_80e363884ee74a94a8a03800b95c70e7",
              "IPY_MODEL_631c9d1db57f41138729be3233f355f2"
            ],
            "layout": "IPY_MODEL_a0220b02dce14aaa8c3c0cf7298a2b04"
          }
        },
        "859bdf238f1e40a597d4e6643c9a8edf": {
          "model_module": "@jupyter-widgets/controls",
          "model_name": "HBoxModel",
          "model_module_version": "1.5.0",
          "state": {
            "_dom_classes": [],
            "_model_module": "@jupyter-widgets/controls",
            "_model_module_version": "1.5.0",
            "_model_name": "HBoxModel",
            "_view_count": null,
            "_view_module": "@jupyter-widgets/controls",
            "_view_module_version": "1.5.0",
            "_view_name": "HBoxView",
            "box_style": "",
            "children": [
              "IPY_MODEL_2ab5b846ee85417f8ac34b3f8af37c42",
              "IPY_MODEL_33af43da353c4760a3f23bcbf74f8a32"
            ],
            "layout": "IPY_MODEL_e9e399bb39894704b734140d7cc3fe12"
          }
        },
        "fc7631e7cf6a47c584c750d23ea65f66": {
          "model_module": "@jupyter-widgets/base",
          "model_name": "LayoutModel",
          "model_module_version": "1.2.0",
          "state": {
            "_model_module": "@jupyter-widgets/base",
            "_model_module_version": "1.2.0",
            "_model_name": "LayoutModel",
            "_view_count": null,
            "_view_module": "@jupyter-widgets/base",
            "_view_module_version": "1.2.0",
            "_view_name": "LayoutView",
            "align_content": null,
            "align_items": null,
            "align_self": null,
            "border": null,
            "bottom": null,
            "display": null,
            "flex": null,
            "flex_flow": null,
            "grid_area": null,
            "grid_auto_columns": null,
            "grid_auto_flow": null,
            "grid_auto_rows": null,
            "grid_column": null,
            "grid_gap": null,
            "grid_row": null,
            "grid_template_areas": null,
            "grid_template_columns": null,
            "grid_template_rows": null,
            "height": null,
            "justify_content": null,
            "justify_items": null,
            "left": null,
            "margin": null,
            "max_height": null,
            "max_width": null,
            "min_height": null,
            "min_width": null,
            "object_fit": null,
            "object_position": null,
            "order": null,
            "overflow": null,
            "overflow_x": null,
            "overflow_y": null,
            "padding": null,
            "right": null,
            "top": null,
            "visibility": null,
            "width": null
          }
        },
        "9b7f963280c440bdbc003659139c6131": {
          "model_module": "@jupyter-widgets/controls",
          "model_name": "IntProgressModel",
          "model_module_version": "1.5.0",
          "state": {
            "_dom_classes": [],
            "_model_module": "@jupyter-widgets/controls",
            "_model_module_version": "1.5.0",
            "_model_name": "IntProgressModel",
            "_view_count": null,
            "_view_module": "@jupyter-widgets/controls",
            "_view_module_version": "1.5.0",
            "_view_name": "ProgressView",
            "bar_style": "success",
            "description": "100.00%",
            "description_tooltip": null,
            "layout": "IPY_MODEL_11f3bf278640410aa967114c5e19475a",
            "max": 2,
            "min": 0,
            "orientation": "horizontal",
            "style": "IPY_MODEL_c17bd58e67414f32be43df81c6a40aa3",
            "value": 2
          }
        },
        "56ce850be37748bfa37a194e726a2a31": {
          "model_module": "@jupyter-widgets/controls",
          "model_name": "LabelModel",
          "model_module_version": "1.5.0",
          "state": {
            "_dom_classes": [],
            "_model_module": "@jupyter-widgets/controls",
            "_model_module_version": "1.5.0",
            "_model_name": "LabelModel",
            "_view_count": null,
            "_view_module": "@jupyter-widgets/controls",
            "_view_module_version": "1.5.0",
            "_view_name": "LabelView",
            "description": "",
            "description_tooltip": null,
            "layout": "IPY_MODEL_ffeef18c299647c4b2cd235009ab932b",
            "placeholder": "​",
            "style": "IPY_MODEL_036c8ad5d81447a2b2424235f1483eec",
            "value": "2 / 2"
          }
        },
        "88da6f8c48bc4aa29e0b3461f91db3bd": {
          "model_module": "@jupyter-widgets/base",
          "model_name": "LayoutModel",
          "model_module_version": "1.2.0",
          "state": {
            "_model_module": "@jupyter-widgets/base",
            "_model_module_version": "1.2.0",
            "_model_name": "LayoutModel",
            "_view_count": null,
            "_view_module": "@jupyter-widgets/base",
            "_view_module_version": "1.2.0",
            "_view_name": "LayoutView",
            "align_content": null,
            "align_items": null,
            "align_self": null,
            "border": null,
            "bottom": null,
            "display": null,
            "flex": null,
            "flex_flow": null,
            "grid_area": null,
            "grid_auto_columns": null,
            "grid_auto_flow": null,
            "grid_auto_rows": null,
            "grid_column": null,
            "grid_gap": null,
            "grid_row": null,
            "grid_template_areas": null,
            "grid_template_columns": null,
            "grid_template_rows": null,
            "height": null,
            "justify_content": null,
            "justify_items": null,
            "left": null,
            "margin": null,
            "max_height": null,
            "max_width": null,
            "min_height": null,
            "min_width": null,
            "object_fit": null,
            "object_position": null,
            "order": null,
            "overflow": null,
            "overflow_x": null,
            "overflow_y": null,
            "padding": null,
            "right": null,
            "top": null,
            "visibility": null,
            "width": null
          }
        },
        "3610decf4ee74df6ac36a5cf2cf7d35a": {
          "model_module": "@jupyter-widgets/controls",
          "model_name": "IntProgressModel",
          "model_module_version": "1.5.0",
          "state": {
            "_dom_classes": [],
            "_model_module": "@jupyter-widgets/controls",
            "_model_module_version": "1.5.0",
            "_model_name": "IntProgressModel",
            "_view_count": null,
            "_view_module": "@jupyter-widgets/controls",
            "_view_module_version": "1.5.0",
            "_view_name": "ProgressView",
            "bar_style": "success",
            "description": "100.00%",
            "description_tooltip": null,
            "layout": "IPY_MODEL_4b62f48c82044f9f9399b7493a6dedc6",
            "max": 1,
            "min": 0,
            "orientation": "horizontal",
            "style": "IPY_MODEL_102fc09a9ed646de8f6aad800c172f12",
            "value": 1
          }
        },
        "b88568f0fa8d4af5a4842a9144f88e8b": {
          "model_module": "@jupyter-widgets/controls",
          "model_name": "LabelModel",
          "model_module_version": "1.5.0",
          "state": {
            "_dom_classes": [],
            "_model_module": "@jupyter-widgets/controls",
            "_model_module_version": "1.5.0",
            "_model_name": "LabelModel",
            "_view_count": null,
            "_view_module": "@jupyter-widgets/controls",
            "_view_module_version": "1.5.0",
            "_view_name": "LabelView",
            "description": "",
            "description_tooltip": null,
            "layout": "IPY_MODEL_0a21c759fe494d658ff63db8fa90964d",
            "placeholder": "​",
            "style": "IPY_MODEL_8ac6bf60ab1a4b0290f0e8d4f94e5459",
            "value": "1 / 1"
          }
        },
        "d546d06633af4e479ab1edece31b0cbb": {
          "model_module": "@jupyter-widgets/base",
          "model_name": "LayoutModel",
          "model_module_version": "1.2.0",
          "state": {
            "_model_module": "@jupyter-widgets/base",
            "_model_module_version": "1.2.0",
            "_model_name": "LayoutModel",
            "_view_count": null,
            "_view_module": "@jupyter-widgets/base",
            "_view_module_version": "1.2.0",
            "_view_name": "LayoutView",
            "align_content": null,
            "align_items": null,
            "align_self": null,
            "border": null,
            "bottom": null,
            "display": null,
            "flex": null,
            "flex_flow": null,
            "grid_area": null,
            "grid_auto_columns": null,
            "grid_auto_flow": null,
            "grid_auto_rows": null,
            "grid_column": null,
            "grid_gap": null,
            "grid_row": null,
            "grid_template_areas": null,
            "grid_template_columns": null,
            "grid_template_rows": null,
            "height": null,
            "justify_content": null,
            "justify_items": null,
            "left": null,
            "margin": null,
            "max_height": null,
            "max_width": null,
            "min_height": null,
            "min_width": null,
            "object_fit": null,
            "object_position": null,
            "order": null,
            "overflow": null,
            "overflow_x": null,
            "overflow_y": null,
            "padding": null,
            "right": null,
            "top": null,
            "visibility": null,
            "width": null
          }
        },
        "d1b95238083649c693701a5a39d4ad26": {
          "model_module": "@jupyter-widgets/controls",
          "model_name": "IntProgressModel",
          "model_module_version": "1.5.0",
          "state": {
            "_dom_classes": [],
            "_model_module": "@jupyter-widgets/controls",
            "_model_module_version": "1.5.0",
            "_model_name": "IntProgressModel",
            "_view_count": null,
            "_view_module": "@jupyter-widgets/controls",
            "_view_module_version": "1.5.0",
            "_view_name": "ProgressView",
            "bar_style": "success",
            "description": "100.00%",
            "description_tooltip": null,
            "layout": "IPY_MODEL_b76f79ed0c844f15a8ca63ca6f9a15bf",
            "max": 1,
            "min": 0,
            "orientation": "horizontal",
            "style": "IPY_MODEL_5f937f5e2d4b441f93d2512fcb7a3d47",
            "value": 1
          }
        },
        "3dd37a287b6148bda8ee5e57a5be2228": {
          "model_module": "@jupyter-widgets/controls",
          "model_name": "LabelModel",
          "model_module_version": "1.5.0",
          "state": {
            "_dom_classes": [],
            "_model_module": "@jupyter-widgets/controls",
            "_model_module_version": "1.5.0",
            "_model_name": "LabelModel",
            "_view_count": null,
            "_view_module": "@jupyter-widgets/controls",
            "_view_module_version": "1.5.0",
            "_view_name": "LabelView",
            "description": "",
            "description_tooltip": null,
            "layout": "IPY_MODEL_fcf1c6ed693e473fa9e0b17abf41519b",
            "placeholder": "​",
            "style": "IPY_MODEL_02c9591fd3744357b8670b3e70bdacb0",
            "value": "1 / 1"
          }
        },
        "9db06a3a7e9b41629ad576018a63a3f2": {
          "model_module": "@jupyter-widgets/base",
          "model_name": "LayoutModel",
          "model_module_version": "1.2.0",
          "state": {
            "_model_module": "@jupyter-widgets/base",
            "_model_module_version": "1.2.0",
            "_model_name": "LayoutModel",
            "_view_count": null,
            "_view_module": "@jupyter-widgets/base",
            "_view_module_version": "1.2.0",
            "_view_name": "LayoutView",
            "align_content": null,
            "align_items": null,
            "align_self": null,
            "border": null,
            "bottom": null,
            "display": null,
            "flex": null,
            "flex_flow": null,
            "grid_area": null,
            "grid_auto_columns": null,
            "grid_auto_flow": null,
            "grid_auto_rows": null,
            "grid_column": null,
            "grid_gap": null,
            "grid_row": null,
            "grid_template_areas": null,
            "grid_template_columns": null,
            "grid_template_rows": null,
            "height": null,
            "justify_content": null,
            "justify_items": null,
            "left": null,
            "margin": null,
            "max_height": null,
            "max_width": null,
            "min_height": null,
            "min_width": null,
            "object_fit": null,
            "object_position": null,
            "order": null,
            "overflow": null,
            "overflow_x": null,
            "overflow_y": null,
            "padding": null,
            "right": null,
            "top": null,
            "visibility": null,
            "width": null
          }
        },
        "80e363884ee74a94a8a03800b95c70e7": {
          "model_module": "@jupyter-widgets/controls",
          "model_name": "IntProgressModel",
          "model_module_version": "1.5.0",
          "state": {
            "_dom_classes": [],
            "_model_module": "@jupyter-widgets/controls",
            "_model_module_version": "1.5.0",
            "_model_name": "IntProgressModel",
            "_view_count": null,
            "_view_module": "@jupyter-widgets/controls",
            "_view_module_version": "1.5.0",
            "_view_name": "ProgressView",
            "bar_style": "success",
            "description": "100.00%",
            "description_tooltip": null,
            "layout": "IPY_MODEL_557f2a02025b45a2a517fc9c0bf7deca",
            "max": 1,
            "min": 0,
            "orientation": "horizontal",
            "style": "IPY_MODEL_c816c2425c8e4848aabaa90387fab1b1",
            "value": 1
          }
        },
        "631c9d1db57f41138729be3233f355f2": {
          "model_module": "@jupyter-widgets/controls",
          "model_name": "LabelModel",
          "model_module_version": "1.5.0",
          "state": {
            "_dom_classes": [],
            "_model_module": "@jupyter-widgets/controls",
            "_model_module_version": "1.5.0",
            "_model_name": "LabelModel",
            "_view_count": null,
            "_view_module": "@jupyter-widgets/controls",
            "_view_module_version": "1.5.0",
            "_view_name": "LabelView",
            "description": "",
            "description_tooltip": null,
            "layout": "IPY_MODEL_d73abc8f4eac4ba588e9af0dd13b6f1d",
            "placeholder": "​",
            "style": "IPY_MODEL_a9fab5dcddbe41c59eeeae153cfb4826",
            "value": "1 / 1"
          }
        },
        "a0220b02dce14aaa8c3c0cf7298a2b04": {
          "model_module": "@jupyter-widgets/base",
          "model_name": "LayoutModel",
          "model_module_version": "1.2.0",
          "state": {
            "_model_module": "@jupyter-widgets/base",
            "_model_module_version": "1.2.0",
            "_model_name": "LayoutModel",
            "_view_count": null,
            "_view_module": "@jupyter-widgets/base",
            "_view_module_version": "1.2.0",
            "_view_name": "LayoutView",
            "align_content": null,
            "align_items": null,
            "align_self": null,
            "border": null,
            "bottom": null,
            "display": null,
            "flex": null,
            "flex_flow": null,
            "grid_area": null,
            "grid_auto_columns": null,
            "grid_auto_flow": null,
            "grid_auto_rows": null,
            "grid_column": null,
            "grid_gap": null,
            "grid_row": null,
            "grid_template_areas": null,
            "grid_template_columns": null,
            "grid_template_rows": null,
            "height": null,
            "justify_content": null,
            "justify_items": null,
            "left": null,
            "margin": null,
            "max_height": null,
            "max_width": null,
            "min_height": null,
            "min_width": null,
            "object_fit": null,
            "object_position": null,
            "order": null,
            "overflow": null,
            "overflow_x": null,
            "overflow_y": null,
            "padding": null,
            "right": null,
            "top": null,
            "visibility": null,
            "width": null
          }
        },
        "2ab5b846ee85417f8ac34b3f8af37c42": {
          "model_module": "@jupyter-widgets/controls",
          "model_name": "IntProgressModel",
          "model_module_version": "1.5.0",
          "state": {
            "_dom_classes": [],
            "_model_module": "@jupyter-widgets/controls",
            "_model_module_version": "1.5.0",
            "_model_name": "IntProgressModel",
            "_view_count": null,
            "_view_module": "@jupyter-widgets/controls",
            "_view_module_version": "1.5.0",
            "_view_name": "ProgressView",
            "bar_style": "success",
            "description": "100.00%",
            "description_tooltip": null,
            "layout": "IPY_MODEL_e0b6270ba414410293c25dd6625c9ecb",
            "max": 1,
            "min": 0,
            "orientation": "horizontal",
            "style": "IPY_MODEL_326a8116c05c49ed98031dab03ce05b5",
            "value": 1
          }
        },
        "33af43da353c4760a3f23bcbf74f8a32": {
          "model_module": "@jupyter-widgets/controls",
          "model_name": "LabelModel",
          "model_module_version": "1.5.0",
          "state": {
            "_dom_classes": [],
            "_model_module": "@jupyter-widgets/controls",
            "_model_module_version": "1.5.0",
            "_model_name": "LabelModel",
            "_view_count": null,
            "_view_module": "@jupyter-widgets/controls",
            "_view_module_version": "1.5.0",
            "_view_name": "LabelView",
            "description": "",
            "description_tooltip": null,
            "layout": "IPY_MODEL_57c4b1b6208b48a993d67dd548f79254",
            "placeholder": "​",
            "style": "IPY_MODEL_540c599b61354fe2aa74bca6ce48f4fb",
            "value": "1 / 1"
          }
        },
        "e9e399bb39894704b734140d7cc3fe12": {
          "model_module": "@jupyter-widgets/base",
          "model_name": "LayoutModel",
          "model_module_version": "1.2.0",
          "state": {
            "_model_module": "@jupyter-widgets/base",
            "_model_module_version": "1.2.0",
            "_model_name": "LayoutModel",
            "_view_count": null,
            "_view_module": "@jupyter-widgets/base",
            "_view_module_version": "1.2.0",
            "_view_name": "LayoutView",
            "align_content": null,
            "align_items": null,
            "align_self": null,
            "border": null,
            "bottom": null,
            "display": null,
            "flex": null,
            "flex_flow": null,
            "grid_area": null,
            "grid_auto_columns": null,
            "grid_auto_flow": null,
            "grid_auto_rows": null,
            "grid_column": null,
            "grid_gap": null,
            "grid_row": null,
            "grid_template_areas": null,
            "grid_template_columns": null,
            "grid_template_rows": null,
            "height": null,
            "justify_content": null,
            "justify_items": null,
            "left": null,
            "margin": null,
            "max_height": null,
            "max_width": null,
            "min_height": null,
            "min_width": null,
            "object_fit": null,
            "object_position": null,
            "order": null,
            "overflow": null,
            "overflow_x": null,
            "overflow_y": null,
            "padding": null,
            "right": null,
            "top": null,
            "visibility": null,
            "width": null
          }
        },
        "11f3bf278640410aa967114c5e19475a": {
          "model_module": "@jupyter-widgets/base",
          "model_name": "LayoutModel",
          "model_module_version": "1.2.0",
          "state": {
            "_model_module": "@jupyter-widgets/base",
            "_model_module_version": "1.2.0",
            "_model_name": "LayoutModel",
            "_view_count": null,
            "_view_module": "@jupyter-widgets/base",
            "_view_module_version": "1.2.0",
            "_view_name": "LayoutView",
            "align_content": null,
            "align_items": null,
            "align_self": null,
            "border": null,
            "bottom": null,
            "display": null,
            "flex": null,
            "flex_flow": null,
            "grid_area": null,
            "grid_auto_columns": null,
            "grid_auto_flow": null,
            "grid_auto_rows": null,
            "grid_column": null,
            "grid_gap": null,
            "grid_row": null,
            "grid_template_areas": null,
            "grid_template_columns": null,
            "grid_template_rows": null,
            "height": null,
            "justify_content": null,
            "justify_items": null,
            "left": null,
            "margin": null,
            "max_height": null,
            "max_width": null,
            "min_height": null,
            "min_width": null,
            "object_fit": null,
            "object_position": null,
            "order": null,
            "overflow": null,
            "overflow_x": null,
            "overflow_y": null,
            "padding": null,
            "right": null,
            "top": null,
            "visibility": null,
            "width": null
          }
        },
        "c17bd58e67414f32be43df81c6a40aa3": {
          "model_module": "@jupyter-widgets/controls",
          "model_name": "ProgressStyleModel",
          "model_module_version": "1.5.0",
          "state": {
            "_model_module": "@jupyter-widgets/controls",
            "_model_module_version": "1.5.0",
            "_model_name": "ProgressStyleModel",
            "_view_count": null,
            "_view_module": "@jupyter-widgets/base",
            "_view_module_version": "1.2.0",
            "_view_name": "StyleView",
            "bar_color": null,
            "description_width": ""
          }
        },
        "ffeef18c299647c4b2cd235009ab932b": {
          "model_module": "@jupyter-widgets/base",
          "model_name": "LayoutModel",
          "model_module_version": "1.2.0",
          "state": {
            "_model_module": "@jupyter-widgets/base",
            "_model_module_version": "1.2.0",
            "_model_name": "LayoutModel",
            "_view_count": null,
            "_view_module": "@jupyter-widgets/base",
            "_view_module_version": "1.2.0",
            "_view_name": "LayoutView",
            "align_content": null,
            "align_items": null,
            "align_self": null,
            "border": null,
            "bottom": null,
            "display": null,
            "flex": null,
            "flex_flow": null,
            "grid_area": null,
            "grid_auto_columns": null,
            "grid_auto_flow": null,
            "grid_auto_rows": null,
            "grid_column": null,
            "grid_gap": null,
            "grid_row": null,
            "grid_template_areas": null,
            "grid_template_columns": null,
            "grid_template_rows": null,
            "height": null,
            "justify_content": null,
            "justify_items": null,
            "left": null,
            "margin": null,
            "max_height": null,
            "max_width": null,
            "min_height": null,
            "min_width": null,
            "object_fit": null,
            "object_position": null,
            "order": null,
            "overflow": null,
            "overflow_x": null,
            "overflow_y": null,
            "padding": null,
            "right": null,
            "top": null,
            "visibility": null,
            "width": null
          }
        },
        "036c8ad5d81447a2b2424235f1483eec": {
          "model_module": "@jupyter-widgets/controls",
          "model_name": "DescriptionStyleModel",
          "model_module_version": "1.5.0",
          "state": {
            "_model_module": "@jupyter-widgets/controls",
            "_model_module_version": "1.5.0",
            "_model_name": "DescriptionStyleModel",
            "_view_count": null,
            "_view_module": "@jupyter-widgets/base",
            "_view_module_version": "1.2.0",
            "_view_name": "StyleView",
            "description_width": ""
          }
        },
        "4b62f48c82044f9f9399b7493a6dedc6": {
          "model_module": "@jupyter-widgets/base",
          "model_name": "LayoutModel",
          "model_module_version": "1.2.0",
          "state": {
            "_model_module": "@jupyter-widgets/base",
            "_model_module_version": "1.2.0",
            "_model_name": "LayoutModel",
            "_view_count": null,
            "_view_module": "@jupyter-widgets/base",
            "_view_module_version": "1.2.0",
            "_view_name": "LayoutView",
            "align_content": null,
            "align_items": null,
            "align_self": null,
            "border": null,
            "bottom": null,
            "display": null,
            "flex": null,
            "flex_flow": null,
            "grid_area": null,
            "grid_auto_columns": null,
            "grid_auto_flow": null,
            "grid_auto_rows": null,
            "grid_column": null,
            "grid_gap": null,
            "grid_row": null,
            "grid_template_areas": null,
            "grid_template_columns": null,
            "grid_template_rows": null,
            "height": null,
            "justify_content": null,
            "justify_items": null,
            "left": null,
            "margin": null,
            "max_height": null,
            "max_width": null,
            "min_height": null,
            "min_width": null,
            "object_fit": null,
            "object_position": null,
            "order": null,
            "overflow": null,
            "overflow_x": null,
            "overflow_y": null,
            "padding": null,
            "right": null,
            "top": null,
            "visibility": null,
            "width": null
          }
        },
        "102fc09a9ed646de8f6aad800c172f12": {
          "model_module": "@jupyter-widgets/controls",
          "model_name": "ProgressStyleModel",
          "model_module_version": "1.5.0",
          "state": {
            "_model_module": "@jupyter-widgets/controls",
            "_model_module_version": "1.5.0",
            "_model_name": "ProgressStyleModel",
            "_view_count": null,
            "_view_module": "@jupyter-widgets/base",
            "_view_module_version": "1.2.0",
            "_view_name": "StyleView",
            "bar_color": null,
            "description_width": ""
          }
        },
        "0a21c759fe494d658ff63db8fa90964d": {
          "model_module": "@jupyter-widgets/base",
          "model_name": "LayoutModel",
          "model_module_version": "1.2.0",
          "state": {
            "_model_module": "@jupyter-widgets/base",
            "_model_module_version": "1.2.0",
            "_model_name": "LayoutModel",
            "_view_count": null,
            "_view_module": "@jupyter-widgets/base",
            "_view_module_version": "1.2.0",
            "_view_name": "LayoutView",
            "align_content": null,
            "align_items": null,
            "align_self": null,
            "border": null,
            "bottom": null,
            "display": null,
            "flex": null,
            "flex_flow": null,
            "grid_area": null,
            "grid_auto_columns": null,
            "grid_auto_flow": null,
            "grid_auto_rows": null,
            "grid_column": null,
            "grid_gap": null,
            "grid_row": null,
            "grid_template_areas": null,
            "grid_template_columns": null,
            "grid_template_rows": null,
            "height": null,
            "justify_content": null,
            "justify_items": null,
            "left": null,
            "margin": null,
            "max_height": null,
            "max_width": null,
            "min_height": null,
            "min_width": null,
            "object_fit": null,
            "object_position": null,
            "order": null,
            "overflow": null,
            "overflow_x": null,
            "overflow_y": null,
            "padding": null,
            "right": null,
            "top": null,
            "visibility": null,
            "width": null
          }
        },
        "8ac6bf60ab1a4b0290f0e8d4f94e5459": {
          "model_module": "@jupyter-widgets/controls",
          "model_name": "DescriptionStyleModel",
          "model_module_version": "1.5.0",
          "state": {
            "_model_module": "@jupyter-widgets/controls",
            "_model_module_version": "1.5.0",
            "_model_name": "DescriptionStyleModel",
            "_view_count": null,
            "_view_module": "@jupyter-widgets/base",
            "_view_module_version": "1.2.0",
            "_view_name": "StyleView",
            "description_width": ""
          }
        },
        "b76f79ed0c844f15a8ca63ca6f9a15bf": {
          "model_module": "@jupyter-widgets/base",
          "model_name": "LayoutModel",
          "model_module_version": "1.2.0",
          "state": {
            "_model_module": "@jupyter-widgets/base",
            "_model_module_version": "1.2.0",
            "_model_name": "LayoutModel",
            "_view_count": null,
            "_view_module": "@jupyter-widgets/base",
            "_view_module_version": "1.2.0",
            "_view_name": "LayoutView",
            "align_content": null,
            "align_items": null,
            "align_self": null,
            "border": null,
            "bottom": null,
            "display": null,
            "flex": null,
            "flex_flow": null,
            "grid_area": null,
            "grid_auto_columns": null,
            "grid_auto_flow": null,
            "grid_auto_rows": null,
            "grid_column": null,
            "grid_gap": null,
            "grid_row": null,
            "grid_template_areas": null,
            "grid_template_columns": null,
            "grid_template_rows": null,
            "height": null,
            "justify_content": null,
            "justify_items": null,
            "left": null,
            "margin": null,
            "max_height": null,
            "max_width": null,
            "min_height": null,
            "min_width": null,
            "object_fit": null,
            "object_position": null,
            "order": null,
            "overflow": null,
            "overflow_x": null,
            "overflow_y": null,
            "padding": null,
            "right": null,
            "top": null,
            "visibility": null,
            "width": null
          }
        },
        "5f937f5e2d4b441f93d2512fcb7a3d47": {
          "model_module": "@jupyter-widgets/controls",
          "model_name": "ProgressStyleModel",
          "model_module_version": "1.5.0",
          "state": {
            "_model_module": "@jupyter-widgets/controls",
            "_model_module_version": "1.5.0",
            "_model_name": "ProgressStyleModel",
            "_view_count": null,
            "_view_module": "@jupyter-widgets/base",
            "_view_module_version": "1.2.0",
            "_view_name": "StyleView",
            "bar_color": null,
            "description_width": ""
          }
        },
        "fcf1c6ed693e473fa9e0b17abf41519b": {
          "model_module": "@jupyter-widgets/base",
          "model_name": "LayoutModel",
          "model_module_version": "1.2.0",
          "state": {
            "_model_module": "@jupyter-widgets/base",
            "_model_module_version": "1.2.0",
            "_model_name": "LayoutModel",
            "_view_count": null,
            "_view_module": "@jupyter-widgets/base",
            "_view_module_version": "1.2.0",
            "_view_name": "LayoutView",
            "align_content": null,
            "align_items": null,
            "align_self": null,
            "border": null,
            "bottom": null,
            "display": null,
            "flex": null,
            "flex_flow": null,
            "grid_area": null,
            "grid_auto_columns": null,
            "grid_auto_flow": null,
            "grid_auto_rows": null,
            "grid_column": null,
            "grid_gap": null,
            "grid_row": null,
            "grid_template_areas": null,
            "grid_template_columns": null,
            "grid_template_rows": null,
            "height": null,
            "justify_content": null,
            "justify_items": null,
            "left": null,
            "margin": null,
            "max_height": null,
            "max_width": null,
            "min_height": null,
            "min_width": null,
            "object_fit": null,
            "object_position": null,
            "order": null,
            "overflow": null,
            "overflow_x": null,
            "overflow_y": null,
            "padding": null,
            "right": null,
            "top": null,
            "visibility": null,
            "width": null
          }
        },
        "02c9591fd3744357b8670b3e70bdacb0": {
          "model_module": "@jupyter-widgets/controls",
          "model_name": "DescriptionStyleModel",
          "model_module_version": "1.5.0",
          "state": {
            "_model_module": "@jupyter-widgets/controls",
            "_model_module_version": "1.5.0",
            "_model_name": "DescriptionStyleModel",
            "_view_count": null,
            "_view_module": "@jupyter-widgets/base",
            "_view_module_version": "1.2.0",
            "_view_name": "StyleView",
            "description_width": ""
          }
        },
        "557f2a02025b45a2a517fc9c0bf7deca": {
          "model_module": "@jupyter-widgets/base",
          "model_name": "LayoutModel",
          "model_module_version": "1.2.0",
          "state": {
            "_model_module": "@jupyter-widgets/base",
            "_model_module_version": "1.2.0",
            "_model_name": "LayoutModel",
            "_view_count": null,
            "_view_module": "@jupyter-widgets/base",
            "_view_module_version": "1.2.0",
            "_view_name": "LayoutView",
            "align_content": null,
            "align_items": null,
            "align_self": null,
            "border": null,
            "bottom": null,
            "display": null,
            "flex": null,
            "flex_flow": null,
            "grid_area": null,
            "grid_auto_columns": null,
            "grid_auto_flow": null,
            "grid_auto_rows": null,
            "grid_column": null,
            "grid_gap": null,
            "grid_row": null,
            "grid_template_areas": null,
            "grid_template_columns": null,
            "grid_template_rows": null,
            "height": null,
            "justify_content": null,
            "justify_items": null,
            "left": null,
            "margin": null,
            "max_height": null,
            "max_width": null,
            "min_height": null,
            "min_width": null,
            "object_fit": null,
            "object_position": null,
            "order": null,
            "overflow": null,
            "overflow_x": null,
            "overflow_y": null,
            "padding": null,
            "right": null,
            "top": null,
            "visibility": null,
            "width": null
          }
        },
        "c816c2425c8e4848aabaa90387fab1b1": {
          "model_module": "@jupyter-widgets/controls",
          "model_name": "ProgressStyleModel",
          "model_module_version": "1.5.0",
          "state": {
            "_model_module": "@jupyter-widgets/controls",
            "_model_module_version": "1.5.0",
            "_model_name": "ProgressStyleModel",
            "_view_count": null,
            "_view_module": "@jupyter-widgets/base",
            "_view_module_version": "1.2.0",
            "_view_name": "StyleView",
            "bar_color": null,
            "description_width": ""
          }
        },
        "d73abc8f4eac4ba588e9af0dd13b6f1d": {
          "model_module": "@jupyter-widgets/base",
          "model_name": "LayoutModel",
          "model_module_version": "1.2.0",
          "state": {
            "_model_module": "@jupyter-widgets/base",
            "_model_module_version": "1.2.0",
            "_model_name": "LayoutModel",
            "_view_count": null,
            "_view_module": "@jupyter-widgets/base",
            "_view_module_version": "1.2.0",
            "_view_name": "LayoutView",
            "align_content": null,
            "align_items": null,
            "align_self": null,
            "border": null,
            "bottom": null,
            "display": null,
            "flex": null,
            "flex_flow": null,
            "grid_area": null,
            "grid_auto_columns": null,
            "grid_auto_flow": null,
            "grid_auto_rows": null,
            "grid_column": null,
            "grid_gap": null,
            "grid_row": null,
            "grid_template_areas": null,
            "grid_template_columns": null,
            "grid_template_rows": null,
            "height": null,
            "justify_content": null,
            "justify_items": null,
            "left": null,
            "margin": null,
            "max_height": null,
            "max_width": null,
            "min_height": null,
            "min_width": null,
            "object_fit": null,
            "object_position": null,
            "order": null,
            "overflow": null,
            "overflow_x": null,
            "overflow_y": null,
            "padding": null,
            "right": null,
            "top": null,
            "visibility": null,
            "width": null
          }
        },
        "a9fab5dcddbe41c59eeeae153cfb4826": {
          "model_module": "@jupyter-widgets/controls",
          "model_name": "DescriptionStyleModel",
          "model_module_version": "1.5.0",
          "state": {
            "_model_module": "@jupyter-widgets/controls",
            "_model_module_version": "1.5.0",
            "_model_name": "DescriptionStyleModel",
            "_view_count": null,
            "_view_module": "@jupyter-widgets/base",
            "_view_module_version": "1.2.0",
            "_view_name": "StyleView",
            "description_width": ""
          }
        },
        "e0b6270ba414410293c25dd6625c9ecb": {
          "model_module": "@jupyter-widgets/base",
          "model_name": "LayoutModel",
          "model_module_version": "1.2.0",
          "state": {
            "_model_module": "@jupyter-widgets/base",
            "_model_module_version": "1.2.0",
            "_model_name": "LayoutModel",
            "_view_count": null,
            "_view_module": "@jupyter-widgets/base",
            "_view_module_version": "1.2.0",
            "_view_name": "LayoutView",
            "align_content": null,
            "align_items": null,
            "align_self": null,
            "border": null,
            "bottom": null,
            "display": null,
            "flex": null,
            "flex_flow": null,
            "grid_area": null,
            "grid_auto_columns": null,
            "grid_auto_flow": null,
            "grid_auto_rows": null,
            "grid_column": null,
            "grid_gap": null,
            "grid_row": null,
            "grid_template_areas": null,
            "grid_template_columns": null,
            "grid_template_rows": null,
            "height": null,
            "justify_content": null,
            "justify_items": null,
            "left": null,
            "margin": null,
            "max_height": null,
            "max_width": null,
            "min_height": null,
            "min_width": null,
            "object_fit": null,
            "object_position": null,
            "order": null,
            "overflow": null,
            "overflow_x": null,
            "overflow_y": null,
            "padding": null,
            "right": null,
            "top": null,
            "visibility": null,
            "width": null
          }
        },
        "326a8116c05c49ed98031dab03ce05b5": {
          "model_module": "@jupyter-widgets/controls",
          "model_name": "ProgressStyleModel",
          "model_module_version": "1.5.0",
          "state": {
            "_model_module": "@jupyter-widgets/controls",
            "_model_module_version": "1.5.0",
            "_model_name": "ProgressStyleModel",
            "_view_count": null,
            "_view_module": "@jupyter-widgets/base",
            "_view_module_version": "1.2.0",
            "_view_name": "StyleView",
            "bar_color": null,
            "description_width": ""
          }
        },
        "57c4b1b6208b48a993d67dd548f79254": {
          "model_module": "@jupyter-widgets/base",
          "model_name": "LayoutModel",
          "model_module_version": "1.2.0",
          "state": {
            "_model_module": "@jupyter-widgets/base",
            "_model_module_version": "1.2.0",
            "_model_name": "LayoutModel",
            "_view_count": null,
            "_view_module": "@jupyter-widgets/base",
            "_view_module_version": "1.2.0",
            "_view_name": "LayoutView",
            "align_content": null,
            "align_items": null,
            "align_self": null,
            "border": null,
            "bottom": null,
            "display": null,
            "flex": null,
            "flex_flow": null,
            "grid_area": null,
            "grid_auto_columns": null,
            "grid_auto_flow": null,
            "grid_auto_rows": null,
            "grid_column": null,
            "grid_gap": null,
            "grid_row": null,
            "grid_template_areas": null,
            "grid_template_columns": null,
            "grid_template_rows": null,
            "height": null,
            "justify_content": null,
            "justify_items": null,
            "left": null,
            "margin": null,
            "max_height": null,
            "max_width": null,
            "min_height": null,
            "min_width": null,
            "object_fit": null,
            "object_position": null,
            "order": null,
            "overflow": null,
            "overflow_x": null,
            "overflow_y": null,
            "padding": null,
            "right": null,
            "top": null,
            "visibility": null,
            "width": null
          }
        },
        "540c599b61354fe2aa74bca6ce48f4fb": {
          "model_module": "@jupyter-widgets/controls",
          "model_name": "DescriptionStyleModel",
          "model_module_version": "1.5.0",
          "state": {
            "_model_module": "@jupyter-widgets/controls",
            "_model_module_version": "1.5.0",
            "_model_name": "DescriptionStyleModel",
            "_view_count": null,
            "_view_module": "@jupyter-widgets/base",
            "_view_module_version": "1.2.0",
            "_view_name": "StyleView",
            "description_width": ""
          }
        },
        "0ab28585fe334e7f978130e9c9ded4f9": {
          "model_module": "@jupyter-widgets/controls",
          "model_name": "VBoxModel",
          "model_module_version": "1.5.0",
          "state": {
            "_dom_classes": [],
            "_model_module": "@jupyter-widgets/controls",
            "_model_module_version": "1.5.0",
            "_model_name": "VBoxModel",
            "_view_count": null,
            "_view_module": "@jupyter-widgets/controls",
            "_view_module_version": "1.5.0",
            "_view_name": "VBoxView",
            "box_style": "",
            "children": [
              "IPY_MODEL_7160e3c64bef44e386869fafc42f3d17",
              "IPY_MODEL_976339f7cff44faeafe03db5508702ea",
              "IPY_MODEL_169510a5028440b8b96a7d5c0881ee11",
              "IPY_MODEL_14de4aadd9d14fd8b40e9737c4df2626",
              "IPY_MODEL_e9817e6878e548fbbd752266ac5d27a0"
            ],
            "layout": "IPY_MODEL_ff1f58799a0e4b5487ea2b6ef94734fc"
          }
        },
        "7160e3c64bef44e386869fafc42f3d17": {
          "model_module": "@jupyter-widgets/controls",
          "model_name": "HBoxModel",
          "model_module_version": "1.5.0",
          "state": {
            "_dom_classes": [],
            "_model_module": "@jupyter-widgets/controls",
            "_model_module_version": "1.5.0",
            "_model_name": "HBoxModel",
            "_view_count": null,
            "_view_module": "@jupyter-widgets/controls",
            "_view_module_version": "1.5.0",
            "_view_name": "HBoxView",
            "box_style": "",
            "children": [
              "IPY_MODEL_cf2d3aea48cb4f3499af2c6d4858bf34",
              "IPY_MODEL_d73c5842db004a909edaecd6eddfe27c"
            ],
            "layout": "IPY_MODEL_1d1e2beab38c463ba98d9a0ec627f33a"
          }
        },
        "976339f7cff44faeafe03db5508702ea": {
          "model_module": "@jupyter-widgets/controls",
          "model_name": "HBoxModel",
          "model_module_version": "1.5.0",
          "state": {
            "_dom_classes": [],
            "_model_module": "@jupyter-widgets/controls",
            "_model_module_version": "1.5.0",
            "_model_name": "HBoxModel",
            "_view_count": null,
            "_view_module": "@jupyter-widgets/controls",
            "_view_module_version": "1.5.0",
            "_view_name": "HBoxView",
            "box_style": "",
            "children": [
              "IPY_MODEL_35e6d6181947490e82ecab492d6106e0",
              "IPY_MODEL_aa8c71cff5314a1792d38d70a9ad7c5b"
            ],
            "layout": "IPY_MODEL_f213174ed3804af5977f4eaee8f83832"
          }
        },
        "169510a5028440b8b96a7d5c0881ee11": {
          "model_module": "@jupyter-widgets/controls",
          "model_name": "HBoxModel",
          "model_module_version": "1.5.0",
          "state": {
            "_dom_classes": [],
            "_model_module": "@jupyter-widgets/controls",
            "_model_module_version": "1.5.0",
            "_model_name": "HBoxModel",
            "_view_count": null,
            "_view_module": "@jupyter-widgets/controls",
            "_view_module_version": "1.5.0",
            "_view_name": "HBoxView",
            "box_style": "",
            "children": [
              "IPY_MODEL_a07cdb89cbe34ff2b4a02d05fc641daa",
              "IPY_MODEL_10c609c296a34743bad9ffde6844b3fc"
            ],
            "layout": "IPY_MODEL_da4a64aa8efa413f96c0640632dbb0cd"
          }
        },
        "14de4aadd9d14fd8b40e9737c4df2626": {
          "model_module": "@jupyter-widgets/controls",
          "model_name": "HBoxModel",
          "model_module_version": "1.5.0",
          "state": {
            "_dom_classes": [],
            "_model_module": "@jupyter-widgets/controls",
            "_model_module_version": "1.5.0",
            "_model_name": "HBoxModel",
            "_view_count": null,
            "_view_module": "@jupyter-widgets/controls",
            "_view_module_version": "1.5.0",
            "_view_name": "HBoxView",
            "box_style": "",
            "children": [
              "IPY_MODEL_a88f3243b9694042963e78083bcd2f98",
              "IPY_MODEL_97ee2408ff214d61a1443c114b7ddf8a"
            ],
            "layout": "IPY_MODEL_0bb9a94933b040d98786e91891dadf0c"
          }
        },
        "e9817e6878e548fbbd752266ac5d27a0": {
          "model_module": "@jupyter-widgets/controls",
          "model_name": "HBoxModel",
          "model_module_version": "1.5.0",
          "state": {
            "_dom_classes": [],
            "_model_module": "@jupyter-widgets/controls",
            "_model_module_version": "1.5.0",
            "_model_name": "HBoxModel",
            "_view_count": null,
            "_view_module": "@jupyter-widgets/controls",
            "_view_module_version": "1.5.0",
            "_view_name": "HBoxView",
            "box_style": "",
            "children": [
              "IPY_MODEL_a48e7bd2adcb43c6afcf610f437676e7",
              "IPY_MODEL_a84f1806d790434686bac783ff3ad752"
            ],
            "layout": "IPY_MODEL_0f39de60fe9744bebb75dc906a88dc00"
          }
        },
        "ff1f58799a0e4b5487ea2b6ef94734fc": {
          "model_module": "@jupyter-widgets/base",
          "model_name": "LayoutModel",
          "model_module_version": "1.2.0",
          "state": {
            "_model_module": "@jupyter-widgets/base",
            "_model_module_version": "1.2.0",
            "_model_name": "LayoutModel",
            "_view_count": null,
            "_view_module": "@jupyter-widgets/base",
            "_view_module_version": "1.2.0",
            "_view_name": "LayoutView",
            "align_content": null,
            "align_items": null,
            "align_self": null,
            "border": null,
            "bottom": null,
            "display": null,
            "flex": null,
            "flex_flow": null,
            "grid_area": null,
            "grid_auto_columns": null,
            "grid_auto_flow": null,
            "grid_auto_rows": null,
            "grid_column": null,
            "grid_gap": null,
            "grid_row": null,
            "grid_template_areas": null,
            "grid_template_columns": null,
            "grid_template_rows": null,
            "height": null,
            "justify_content": null,
            "justify_items": null,
            "left": null,
            "margin": null,
            "max_height": null,
            "max_width": null,
            "min_height": null,
            "min_width": null,
            "object_fit": null,
            "object_position": null,
            "order": null,
            "overflow": null,
            "overflow_x": null,
            "overflow_y": null,
            "padding": null,
            "right": null,
            "top": null,
            "visibility": null,
            "width": null
          }
        },
        "cf2d3aea48cb4f3499af2c6d4858bf34": {
          "model_module": "@jupyter-widgets/controls",
          "model_name": "IntProgressModel",
          "model_module_version": "1.5.0",
          "state": {
            "_dom_classes": [],
            "_model_module": "@jupyter-widgets/controls",
            "_model_module_version": "1.5.0",
            "_model_name": "IntProgressModel",
            "_view_count": null,
            "_view_module": "@jupyter-widgets/controls",
            "_view_module_version": "1.5.0",
            "_view_name": "ProgressView",
            "bar_style": "success",
            "description": "100.00%",
            "description_tooltip": null,
            "layout": "IPY_MODEL_4073b09394484fc6acf91debf810569d",
            "max": 1,
            "min": 0,
            "orientation": "horizontal",
            "style": "IPY_MODEL_ea42d40454514521b684afda310cd524",
            "value": 1
          }
        },
        "d73c5842db004a909edaecd6eddfe27c": {
          "model_module": "@jupyter-widgets/controls",
          "model_name": "LabelModel",
          "model_module_version": "1.5.0",
          "state": {
            "_dom_classes": [],
            "_model_module": "@jupyter-widgets/controls",
            "_model_module_version": "1.5.0",
            "_model_name": "LabelModel",
            "_view_count": null,
            "_view_module": "@jupyter-widgets/controls",
            "_view_module_version": "1.5.0",
            "_view_name": "LabelView",
            "description": "",
            "description_tooltip": null,
            "layout": "IPY_MODEL_de8579e9f0a74abb9a9c995d85985f38",
            "placeholder": "​",
            "style": "IPY_MODEL_08a13ab9bad140cfbbf60d7f87b09ae0",
            "value": "1 / 1"
          }
        },
        "1d1e2beab38c463ba98d9a0ec627f33a": {
          "model_module": "@jupyter-widgets/base",
          "model_name": "LayoutModel",
          "model_module_version": "1.2.0",
          "state": {
            "_model_module": "@jupyter-widgets/base",
            "_model_module_version": "1.2.0",
            "_model_name": "LayoutModel",
            "_view_count": null,
            "_view_module": "@jupyter-widgets/base",
            "_view_module_version": "1.2.0",
            "_view_name": "LayoutView",
            "align_content": null,
            "align_items": null,
            "align_self": null,
            "border": null,
            "bottom": null,
            "display": null,
            "flex": null,
            "flex_flow": null,
            "grid_area": null,
            "grid_auto_columns": null,
            "grid_auto_flow": null,
            "grid_auto_rows": null,
            "grid_column": null,
            "grid_gap": null,
            "grid_row": null,
            "grid_template_areas": null,
            "grid_template_columns": null,
            "grid_template_rows": null,
            "height": null,
            "justify_content": null,
            "justify_items": null,
            "left": null,
            "margin": null,
            "max_height": null,
            "max_width": null,
            "min_height": null,
            "min_width": null,
            "object_fit": null,
            "object_position": null,
            "order": null,
            "overflow": null,
            "overflow_x": null,
            "overflow_y": null,
            "padding": null,
            "right": null,
            "top": null,
            "visibility": null,
            "width": null
          }
        },
        "35e6d6181947490e82ecab492d6106e0": {
          "model_module": "@jupyter-widgets/controls",
          "model_name": "IntProgressModel",
          "model_module_version": "1.5.0",
          "state": {
            "_dom_classes": [],
            "_model_module": "@jupyter-widgets/controls",
            "_model_module_version": "1.5.0",
            "_model_name": "IntProgressModel",
            "_view_count": null,
            "_view_module": "@jupyter-widgets/controls",
            "_view_module_version": "1.5.0",
            "_view_name": "ProgressView",
            "bar_style": "success",
            "description": "100.00%",
            "description_tooltip": null,
            "layout": "IPY_MODEL_fda66906b2914122a9178ab2e723101a",
            "max": 1,
            "min": 0,
            "orientation": "horizontal",
            "style": "IPY_MODEL_85d12cee4b514a7fae04d1ab3d559fa0",
            "value": 1
          }
        },
        "aa8c71cff5314a1792d38d70a9ad7c5b": {
          "model_module": "@jupyter-widgets/controls",
          "model_name": "LabelModel",
          "model_module_version": "1.5.0",
          "state": {
            "_dom_classes": [],
            "_model_module": "@jupyter-widgets/controls",
            "_model_module_version": "1.5.0",
            "_model_name": "LabelModel",
            "_view_count": null,
            "_view_module": "@jupyter-widgets/controls",
            "_view_module_version": "1.5.0",
            "_view_name": "LabelView",
            "description": "",
            "description_tooltip": null,
            "layout": "IPY_MODEL_7070249897dc4a0b8f8df48aadd5e55a",
            "placeholder": "​",
            "style": "IPY_MODEL_efa77124e99241559a8281291c4ca4c3",
            "value": "1 / 1"
          }
        },
        "f213174ed3804af5977f4eaee8f83832": {
          "model_module": "@jupyter-widgets/base",
          "model_name": "LayoutModel",
          "model_module_version": "1.2.0",
          "state": {
            "_model_module": "@jupyter-widgets/base",
            "_model_module_version": "1.2.0",
            "_model_name": "LayoutModel",
            "_view_count": null,
            "_view_module": "@jupyter-widgets/base",
            "_view_module_version": "1.2.0",
            "_view_name": "LayoutView",
            "align_content": null,
            "align_items": null,
            "align_self": null,
            "border": null,
            "bottom": null,
            "display": null,
            "flex": null,
            "flex_flow": null,
            "grid_area": null,
            "grid_auto_columns": null,
            "grid_auto_flow": null,
            "grid_auto_rows": null,
            "grid_column": null,
            "grid_gap": null,
            "grid_row": null,
            "grid_template_areas": null,
            "grid_template_columns": null,
            "grid_template_rows": null,
            "height": null,
            "justify_content": null,
            "justify_items": null,
            "left": null,
            "margin": null,
            "max_height": null,
            "max_width": null,
            "min_height": null,
            "min_width": null,
            "object_fit": null,
            "object_position": null,
            "order": null,
            "overflow": null,
            "overflow_x": null,
            "overflow_y": null,
            "padding": null,
            "right": null,
            "top": null,
            "visibility": null,
            "width": null
          }
        },
        "a07cdb89cbe34ff2b4a02d05fc641daa": {
          "model_module": "@jupyter-widgets/controls",
          "model_name": "IntProgressModel",
          "model_module_version": "1.5.0",
          "state": {
            "_dom_classes": [],
            "_model_module": "@jupyter-widgets/controls",
            "_model_module_version": "1.5.0",
            "_model_name": "IntProgressModel",
            "_view_count": null,
            "_view_module": "@jupyter-widgets/controls",
            "_view_module_version": "1.5.0",
            "_view_name": "ProgressView",
            "bar_style": "success",
            "description": "100.00%",
            "description_tooltip": null,
            "layout": "IPY_MODEL_f182bf2ee1d54857b171f00335b79083",
            "max": 1,
            "min": 0,
            "orientation": "horizontal",
            "style": "IPY_MODEL_dbf2353f612c4b628fcd9d53ac47ee7d",
            "value": 1
          }
        },
        "10c609c296a34743bad9ffde6844b3fc": {
          "model_module": "@jupyter-widgets/controls",
          "model_name": "LabelModel",
          "model_module_version": "1.5.0",
          "state": {
            "_dom_classes": [],
            "_model_module": "@jupyter-widgets/controls",
            "_model_module_version": "1.5.0",
            "_model_name": "LabelModel",
            "_view_count": null,
            "_view_module": "@jupyter-widgets/controls",
            "_view_module_version": "1.5.0",
            "_view_name": "LabelView",
            "description": "",
            "description_tooltip": null,
            "layout": "IPY_MODEL_6a336d46898844c7869ef46130a4a761",
            "placeholder": "​",
            "style": "IPY_MODEL_a9ad08dc71724d37bcfe6eb7912345b2",
            "value": "1 / 1"
          }
        },
        "da4a64aa8efa413f96c0640632dbb0cd": {
          "model_module": "@jupyter-widgets/base",
          "model_name": "LayoutModel",
          "model_module_version": "1.2.0",
          "state": {
            "_model_module": "@jupyter-widgets/base",
            "_model_module_version": "1.2.0",
            "_model_name": "LayoutModel",
            "_view_count": null,
            "_view_module": "@jupyter-widgets/base",
            "_view_module_version": "1.2.0",
            "_view_name": "LayoutView",
            "align_content": null,
            "align_items": null,
            "align_self": null,
            "border": null,
            "bottom": null,
            "display": null,
            "flex": null,
            "flex_flow": null,
            "grid_area": null,
            "grid_auto_columns": null,
            "grid_auto_flow": null,
            "grid_auto_rows": null,
            "grid_column": null,
            "grid_gap": null,
            "grid_row": null,
            "grid_template_areas": null,
            "grid_template_columns": null,
            "grid_template_rows": null,
            "height": null,
            "justify_content": null,
            "justify_items": null,
            "left": null,
            "margin": null,
            "max_height": null,
            "max_width": null,
            "min_height": null,
            "min_width": null,
            "object_fit": null,
            "object_position": null,
            "order": null,
            "overflow": null,
            "overflow_x": null,
            "overflow_y": null,
            "padding": null,
            "right": null,
            "top": null,
            "visibility": null,
            "width": null
          }
        },
        "a88f3243b9694042963e78083bcd2f98": {
          "model_module": "@jupyter-widgets/controls",
          "model_name": "IntProgressModel",
          "model_module_version": "1.5.0",
          "state": {
            "_dom_classes": [],
            "_model_module": "@jupyter-widgets/controls",
            "_model_module_version": "1.5.0",
            "_model_name": "IntProgressModel",
            "_view_count": null,
            "_view_module": "@jupyter-widgets/controls",
            "_view_module_version": "1.5.0",
            "_view_name": "ProgressView",
            "bar_style": "success",
            "description": "100.00%",
            "description_tooltip": null,
            "layout": "IPY_MODEL_0fcb0be4e03a4bfd802ce22ef461a689",
            "max": 1,
            "min": 0,
            "orientation": "horizontal",
            "style": "IPY_MODEL_93914e264c7f45f0b63270ebcfeb6922",
            "value": 1
          }
        },
        "97ee2408ff214d61a1443c114b7ddf8a": {
          "model_module": "@jupyter-widgets/controls",
          "model_name": "LabelModel",
          "model_module_version": "1.5.0",
          "state": {
            "_dom_classes": [],
            "_model_module": "@jupyter-widgets/controls",
            "_model_module_version": "1.5.0",
            "_model_name": "LabelModel",
            "_view_count": null,
            "_view_module": "@jupyter-widgets/controls",
            "_view_module_version": "1.5.0",
            "_view_name": "LabelView",
            "description": "",
            "description_tooltip": null,
            "layout": "IPY_MODEL_18dd475bfb454f27895c2e3176402cfc",
            "placeholder": "​",
            "style": "IPY_MODEL_b2623eb24a1c4f7596a7b02ab4e23fa6",
            "value": "1 / 1"
          }
        },
        "0bb9a94933b040d98786e91891dadf0c": {
          "model_module": "@jupyter-widgets/base",
          "model_name": "LayoutModel",
          "model_module_version": "1.2.0",
          "state": {
            "_model_module": "@jupyter-widgets/base",
            "_model_module_version": "1.2.0",
            "_model_name": "LayoutModel",
            "_view_count": null,
            "_view_module": "@jupyter-widgets/base",
            "_view_module_version": "1.2.0",
            "_view_name": "LayoutView",
            "align_content": null,
            "align_items": null,
            "align_self": null,
            "border": null,
            "bottom": null,
            "display": null,
            "flex": null,
            "flex_flow": null,
            "grid_area": null,
            "grid_auto_columns": null,
            "grid_auto_flow": null,
            "grid_auto_rows": null,
            "grid_column": null,
            "grid_gap": null,
            "grid_row": null,
            "grid_template_areas": null,
            "grid_template_columns": null,
            "grid_template_rows": null,
            "height": null,
            "justify_content": null,
            "justify_items": null,
            "left": null,
            "margin": null,
            "max_height": null,
            "max_width": null,
            "min_height": null,
            "min_width": null,
            "object_fit": null,
            "object_position": null,
            "order": null,
            "overflow": null,
            "overflow_x": null,
            "overflow_y": null,
            "padding": null,
            "right": null,
            "top": null,
            "visibility": null,
            "width": null
          }
        },
        "a48e7bd2adcb43c6afcf610f437676e7": {
          "model_module": "@jupyter-widgets/controls",
          "model_name": "IntProgressModel",
          "model_module_version": "1.5.0",
          "state": {
            "_dom_classes": [],
            "_model_module": "@jupyter-widgets/controls",
            "_model_module_version": "1.5.0",
            "_model_name": "IntProgressModel",
            "_view_count": null,
            "_view_module": "@jupyter-widgets/controls",
            "_view_module_version": "1.5.0",
            "_view_name": "ProgressView",
            "bar_style": "success",
            "description": "100.00%",
            "description_tooltip": null,
            "layout": "IPY_MODEL_75ececbcd68f4057ae4e0cc6051ded29",
            "max": 1,
            "min": 0,
            "orientation": "horizontal",
            "style": "IPY_MODEL_f7cb56a03caf49ebbcb5ef3db46b2923",
            "value": 1
          }
        },
        "a84f1806d790434686bac783ff3ad752": {
          "model_module": "@jupyter-widgets/controls",
          "model_name": "LabelModel",
          "model_module_version": "1.5.0",
          "state": {
            "_dom_classes": [],
            "_model_module": "@jupyter-widgets/controls",
            "_model_module_version": "1.5.0",
            "_model_name": "LabelModel",
            "_view_count": null,
            "_view_module": "@jupyter-widgets/controls",
            "_view_module_version": "1.5.0",
            "_view_name": "LabelView",
            "description": "",
            "description_tooltip": null,
            "layout": "IPY_MODEL_d2ae1a14a3a3446c925ef7374eed4ee8",
            "placeholder": "​",
            "style": "IPY_MODEL_4ea8c9e22a9845ecb5b3410dc2449f23",
            "value": "1 / 1"
          }
        },
        "0f39de60fe9744bebb75dc906a88dc00": {
          "model_module": "@jupyter-widgets/base",
          "model_name": "LayoutModel",
          "model_module_version": "1.2.0",
          "state": {
            "_model_module": "@jupyter-widgets/base",
            "_model_module_version": "1.2.0",
            "_model_name": "LayoutModel",
            "_view_count": null,
            "_view_module": "@jupyter-widgets/base",
            "_view_module_version": "1.2.0",
            "_view_name": "LayoutView",
            "align_content": null,
            "align_items": null,
            "align_self": null,
            "border": null,
            "bottom": null,
            "display": null,
            "flex": null,
            "flex_flow": null,
            "grid_area": null,
            "grid_auto_columns": null,
            "grid_auto_flow": null,
            "grid_auto_rows": null,
            "grid_column": null,
            "grid_gap": null,
            "grid_row": null,
            "grid_template_areas": null,
            "grid_template_columns": null,
            "grid_template_rows": null,
            "height": null,
            "justify_content": null,
            "justify_items": null,
            "left": null,
            "margin": null,
            "max_height": null,
            "max_width": null,
            "min_height": null,
            "min_width": null,
            "object_fit": null,
            "object_position": null,
            "order": null,
            "overflow": null,
            "overflow_x": null,
            "overflow_y": null,
            "padding": null,
            "right": null,
            "top": null,
            "visibility": null,
            "width": null
          }
        },
        "4073b09394484fc6acf91debf810569d": {
          "model_module": "@jupyter-widgets/base",
          "model_name": "LayoutModel",
          "model_module_version": "1.2.0",
          "state": {
            "_model_module": "@jupyter-widgets/base",
            "_model_module_version": "1.2.0",
            "_model_name": "LayoutModel",
            "_view_count": null,
            "_view_module": "@jupyter-widgets/base",
            "_view_module_version": "1.2.0",
            "_view_name": "LayoutView",
            "align_content": null,
            "align_items": null,
            "align_self": null,
            "border": null,
            "bottom": null,
            "display": null,
            "flex": null,
            "flex_flow": null,
            "grid_area": null,
            "grid_auto_columns": null,
            "grid_auto_flow": null,
            "grid_auto_rows": null,
            "grid_column": null,
            "grid_gap": null,
            "grid_row": null,
            "grid_template_areas": null,
            "grid_template_columns": null,
            "grid_template_rows": null,
            "height": null,
            "justify_content": null,
            "justify_items": null,
            "left": null,
            "margin": null,
            "max_height": null,
            "max_width": null,
            "min_height": null,
            "min_width": null,
            "object_fit": null,
            "object_position": null,
            "order": null,
            "overflow": null,
            "overflow_x": null,
            "overflow_y": null,
            "padding": null,
            "right": null,
            "top": null,
            "visibility": null,
            "width": null
          }
        },
        "ea42d40454514521b684afda310cd524": {
          "model_module": "@jupyter-widgets/controls",
          "model_name": "ProgressStyleModel",
          "model_module_version": "1.5.0",
          "state": {
            "_model_module": "@jupyter-widgets/controls",
            "_model_module_version": "1.5.0",
            "_model_name": "ProgressStyleModel",
            "_view_count": null,
            "_view_module": "@jupyter-widgets/base",
            "_view_module_version": "1.2.0",
            "_view_name": "StyleView",
            "bar_color": null,
            "description_width": ""
          }
        },
        "de8579e9f0a74abb9a9c995d85985f38": {
          "model_module": "@jupyter-widgets/base",
          "model_name": "LayoutModel",
          "model_module_version": "1.2.0",
          "state": {
            "_model_module": "@jupyter-widgets/base",
            "_model_module_version": "1.2.0",
            "_model_name": "LayoutModel",
            "_view_count": null,
            "_view_module": "@jupyter-widgets/base",
            "_view_module_version": "1.2.0",
            "_view_name": "LayoutView",
            "align_content": null,
            "align_items": null,
            "align_self": null,
            "border": null,
            "bottom": null,
            "display": null,
            "flex": null,
            "flex_flow": null,
            "grid_area": null,
            "grid_auto_columns": null,
            "grid_auto_flow": null,
            "grid_auto_rows": null,
            "grid_column": null,
            "grid_gap": null,
            "grid_row": null,
            "grid_template_areas": null,
            "grid_template_columns": null,
            "grid_template_rows": null,
            "height": null,
            "justify_content": null,
            "justify_items": null,
            "left": null,
            "margin": null,
            "max_height": null,
            "max_width": null,
            "min_height": null,
            "min_width": null,
            "object_fit": null,
            "object_position": null,
            "order": null,
            "overflow": null,
            "overflow_x": null,
            "overflow_y": null,
            "padding": null,
            "right": null,
            "top": null,
            "visibility": null,
            "width": null
          }
        },
        "08a13ab9bad140cfbbf60d7f87b09ae0": {
          "model_module": "@jupyter-widgets/controls",
          "model_name": "DescriptionStyleModel",
          "model_module_version": "1.5.0",
          "state": {
            "_model_module": "@jupyter-widgets/controls",
            "_model_module_version": "1.5.0",
            "_model_name": "DescriptionStyleModel",
            "_view_count": null,
            "_view_module": "@jupyter-widgets/base",
            "_view_module_version": "1.2.0",
            "_view_name": "StyleView",
            "description_width": ""
          }
        },
        "fda66906b2914122a9178ab2e723101a": {
          "model_module": "@jupyter-widgets/base",
          "model_name": "LayoutModel",
          "model_module_version": "1.2.0",
          "state": {
            "_model_module": "@jupyter-widgets/base",
            "_model_module_version": "1.2.0",
            "_model_name": "LayoutModel",
            "_view_count": null,
            "_view_module": "@jupyter-widgets/base",
            "_view_module_version": "1.2.0",
            "_view_name": "LayoutView",
            "align_content": null,
            "align_items": null,
            "align_self": null,
            "border": null,
            "bottom": null,
            "display": null,
            "flex": null,
            "flex_flow": null,
            "grid_area": null,
            "grid_auto_columns": null,
            "grid_auto_flow": null,
            "grid_auto_rows": null,
            "grid_column": null,
            "grid_gap": null,
            "grid_row": null,
            "grid_template_areas": null,
            "grid_template_columns": null,
            "grid_template_rows": null,
            "height": null,
            "justify_content": null,
            "justify_items": null,
            "left": null,
            "margin": null,
            "max_height": null,
            "max_width": null,
            "min_height": null,
            "min_width": null,
            "object_fit": null,
            "object_position": null,
            "order": null,
            "overflow": null,
            "overflow_x": null,
            "overflow_y": null,
            "padding": null,
            "right": null,
            "top": null,
            "visibility": null,
            "width": null
          }
        },
        "85d12cee4b514a7fae04d1ab3d559fa0": {
          "model_module": "@jupyter-widgets/controls",
          "model_name": "ProgressStyleModel",
          "model_module_version": "1.5.0",
          "state": {
            "_model_module": "@jupyter-widgets/controls",
            "_model_module_version": "1.5.0",
            "_model_name": "ProgressStyleModel",
            "_view_count": null,
            "_view_module": "@jupyter-widgets/base",
            "_view_module_version": "1.2.0",
            "_view_name": "StyleView",
            "bar_color": null,
            "description_width": ""
          }
        },
        "7070249897dc4a0b8f8df48aadd5e55a": {
          "model_module": "@jupyter-widgets/base",
          "model_name": "LayoutModel",
          "model_module_version": "1.2.0",
          "state": {
            "_model_module": "@jupyter-widgets/base",
            "_model_module_version": "1.2.0",
            "_model_name": "LayoutModel",
            "_view_count": null,
            "_view_module": "@jupyter-widgets/base",
            "_view_module_version": "1.2.0",
            "_view_name": "LayoutView",
            "align_content": null,
            "align_items": null,
            "align_self": null,
            "border": null,
            "bottom": null,
            "display": null,
            "flex": null,
            "flex_flow": null,
            "grid_area": null,
            "grid_auto_columns": null,
            "grid_auto_flow": null,
            "grid_auto_rows": null,
            "grid_column": null,
            "grid_gap": null,
            "grid_row": null,
            "grid_template_areas": null,
            "grid_template_columns": null,
            "grid_template_rows": null,
            "height": null,
            "justify_content": null,
            "justify_items": null,
            "left": null,
            "margin": null,
            "max_height": null,
            "max_width": null,
            "min_height": null,
            "min_width": null,
            "object_fit": null,
            "object_position": null,
            "order": null,
            "overflow": null,
            "overflow_x": null,
            "overflow_y": null,
            "padding": null,
            "right": null,
            "top": null,
            "visibility": null,
            "width": null
          }
        },
        "efa77124e99241559a8281291c4ca4c3": {
          "model_module": "@jupyter-widgets/controls",
          "model_name": "DescriptionStyleModel",
          "model_module_version": "1.5.0",
          "state": {
            "_model_module": "@jupyter-widgets/controls",
            "_model_module_version": "1.5.0",
            "_model_name": "DescriptionStyleModel",
            "_view_count": null,
            "_view_module": "@jupyter-widgets/base",
            "_view_module_version": "1.2.0",
            "_view_name": "StyleView",
            "description_width": ""
          }
        },
        "f182bf2ee1d54857b171f00335b79083": {
          "model_module": "@jupyter-widgets/base",
          "model_name": "LayoutModel",
          "model_module_version": "1.2.0",
          "state": {
            "_model_module": "@jupyter-widgets/base",
            "_model_module_version": "1.2.0",
            "_model_name": "LayoutModel",
            "_view_count": null,
            "_view_module": "@jupyter-widgets/base",
            "_view_module_version": "1.2.0",
            "_view_name": "LayoutView",
            "align_content": null,
            "align_items": null,
            "align_self": null,
            "border": null,
            "bottom": null,
            "display": null,
            "flex": null,
            "flex_flow": null,
            "grid_area": null,
            "grid_auto_columns": null,
            "grid_auto_flow": null,
            "grid_auto_rows": null,
            "grid_column": null,
            "grid_gap": null,
            "grid_row": null,
            "grid_template_areas": null,
            "grid_template_columns": null,
            "grid_template_rows": null,
            "height": null,
            "justify_content": null,
            "justify_items": null,
            "left": null,
            "margin": null,
            "max_height": null,
            "max_width": null,
            "min_height": null,
            "min_width": null,
            "object_fit": null,
            "object_position": null,
            "order": null,
            "overflow": null,
            "overflow_x": null,
            "overflow_y": null,
            "padding": null,
            "right": null,
            "top": null,
            "visibility": null,
            "width": null
          }
        },
        "dbf2353f612c4b628fcd9d53ac47ee7d": {
          "model_module": "@jupyter-widgets/controls",
          "model_name": "ProgressStyleModel",
          "model_module_version": "1.5.0",
          "state": {
            "_model_module": "@jupyter-widgets/controls",
            "_model_module_version": "1.5.0",
            "_model_name": "ProgressStyleModel",
            "_view_count": null,
            "_view_module": "@jupyter-widgets/base",
            "_view_module_version": "1.2.0",
            "_view_name": "StyleView",
            "bar_color": null,
            "description_width": ""
          }
        },
        "6a336d46898844c7869ef46130a4a761": {
          "model_module": "@jupyter-widgets/base",
          "model_name": "LayoutModel",
          "model_module_version": "1.2.0",
          "state": {
            "_model_module": "@jupyter-widgets/base",
            "_model_module_version": "1.2.0",
            "_model_name": "LayoutModel",
            "_view_count": null,
            "_view_module": "@jupyter-widgets/base",
            "_view_module_version": "1.2.0",
            "_view_name": "LayoutView",
            "align_content": null,
            "align_items": null,
            "align_self": null,
            "border": null,
            "bottom": null,
            "display": null,
            "flex": null,
            "flex_flow": null,
            "grid_area": null,
            "grid_auto_columns": null,
            "grid_auto_flow": null,
            "grid_auto_rows": null,
            "grid_column": null,
            "grid_gap": null,
            "grid_row": null,
            "grid_template_areas": null,
            "grid_template_columns": null,
            "grid_template_rows": null,
            "height": null,
            "justify_content": null,
            "justify_items": null,
            "left": null,
            "margin": null,
            "max_height": null,
            "max_width": null,
            "min_height": null,
            "min_width": null,
            "object_fit": null,
            "object_position": null,
            "order": null,
            "overflow": null,
            "overflow_x": null,
            "overflow_y": null,
            "padding": null,
            "right": null,
            "top": null,
            "visibility": null,
            "width": null
          }
        },
        "a9ad08dc71724d37bcfe6eb7912345b2": {
          "model_module": "@jupyter-widgets/controls",
          "model_name": "DescriptionStyleModel",
          "model_module_version": "1.5.0",
          "state": {
            "_model_module": "@jupyter-widgets/controls",
            "_model_module_version": "1.5.0",
            "_model_name": "DescriptionStyleModel",
            "_view_count": null,
            "_view_module": "@jupyter-widgets/base",
            "_view_module_version": "1.2.0",
            "_view_name": "StyleView",
            "description_width": ""
          }
        },
        "0fcb0be4e03a4bfd802ce22ef461a689": {
          "model_module": "@jupyter-widgets/base",
          "model_name": "LayoutModel",
          "model_module_version": "1.2.0",
          "state": {
            "_model_module": "@jupyter-widgets/base",
            "_model_module_version": "1.2.0",
            "_model_name": "LayoutModel",
            "_view_count": null,
            "_view_module": "@jupyter-widgets/base",
            "_view_module_version": "1.2.0",
            "_view_name": "LayoutView",
            "align_content": null,
            "align_items": null,
            "align_self": null,
            "border": null,
            "bottom": null,
            "display": null,
            "flex": null,
            "flex_flow": null,
            "grid_area": null,
            "grid_auto_columns": null,
            "grid_auto_flow": null,
            "grid_auto_rows": null,
            "grid_column": null,
            "grid_gap": null,
            "grid_row": null,
            "grid_template_areas": null,
            "grid_template_columns": null,
            "grid_template_rows": null,
            "height": null,
            "justify_content": null,
            "justify_items": null,
            "left": null,
            "margin": null,
            "max_height": null,
            "max_width": null,
            "min_height": null,
            "min_width": null,
            "object_fit": null,
            "object_position": null,
            "order": null,
            "overflow": null,
            "overflow_x": null,
            "overflow_y": null,
            "padding": null,
            "right": null,
            "top": null,
            "visibility": null,
            "width": null
          }
        },
        "93914e264c7f45f0b63270ebcfeb6922": {
          "model_module": "@jupyter-widgets/controls",
          "model_name": "ProgressStyleModel",
          "model_module_version": "1.5.0",
          "state": {
            "_model_module": "@jupyter-widgets/controls",
            "_model_module_version": "1.5.0",
            "_model_name": "ProgressStyleModel",
            "_view_count": null,
            "_view_module": "@jupyter-widgets/base",
            "_view_module_version": "1.2.0",
            "_view_name": "StyleView",
            "bar_color": null,
            "description_width": ""
          }
        },
        "18dd475bfb454f27895c2e3176402cfc": {
          "model_module": "@jupyter-widgets/base",
          "model_name": "LayoutModel",
          "model_module_version": "1.2.0",
          "state": {
            "_model_module": "@jupyter-widgets/base",
            "_model_module_version": "1.2.0",
            "_model_name": "LayoutModel",
            "_view_count": null,
            "_view_module": "@jupyter-widgets/base",
            "_view_module_version": "1.2.0",
            "_view_name": "LayoutView",
            "align_content": null,
            "align_items": null,
            "align_self": null,
            "border": null,
            "bottom": null,
            "display": null,
            "flex": null,
            "flex_flow": null,
            "grid_area": null,
            "grid_auto_columns": null,
            "grid_auto_flow": null,
            "grid_auto_rows": null,
            "grid_column": null,
            "grid_gap": null,
            "grid_row": null,
            "grid_template_areas": null,
            "grid_template_columns": null,
            "grid_template_rows": null,
            "height": null,
            "justify_content": null,
            "justify_items": null,
            "left": null,
            "margin": null,
            "max_height": null,
            "max_width": null,
            "min_height": null,
            "min_width": null,
            "object_fit": null,
            "object_position": null,
            "order": null,
            "overflow": null,
            "overflow_x": null,
            "overflow_y": null,
            "padding": null,
            "right": null,
            "top": null,
            "visibility": null,
            "width": null
          }
        },
        "b2623eb24a1c4f7596a7b02ab4e23fa6": {
          "model_module": "@jupyter-widgets/controls",
          "model_name": "DescriptionStyleModel",
          "model_module_version": "1.5.0",
          "state": {
            "_model_module": "@jupyter-widgets/controls",
            "_model_module_version": "1.5.0",
            "_model_name": "DescriptionStyleModel",
            "_view_count": null,
            "_view_module": "@jupyter-widgets/base",
            "_view_module_version": "1.2.0",
            "_view_name": "StyleView",
            "description_width": ""
          }
        },
        "75ececbcd68f4057ae4e0cc6051ded29": {
          "model_module": "@jupyter-widgets/base",
          "model_name": "LayoutModel",
          "model_module_version": "1.2.0",
          "state": {
            "_model_module": "@jupyter-widgets/base",
            "_model_module_version": "1.2.0",
            "_model_name": "LayoutModel",
            "_view_count": null,
            "_view_module": "@jupyter-widgets/base",
            "_view_module_version": "1.2.0",
            "_view_name": "LayoutView",
            "align_content": null,
            "align_items": null,
            "align_self": null,
            "border": null,
            "bottom": null,
            "display": null,
            "flex": null,
            "flex_flow": null,
            "grid_area": null,
            "grid_auto_columns": null,
            "grid_auto_flow": null,
            "grid_auto_rows": null,
            "grid_column": null,
            "grid_gap": null,
            "grid_row": null,
            "grid_template_areas": null,
            "grid_template_columns": null,
            "grid_template_rows": null,
            "height": null,
            "justify_content": null,
            "justify_items": null,
            "left": null,
            "margin": null,
            "max_height": null,
            "max_width": null,
            "min_height": null,
            "min_width": null,
            "object_fit": null,
            "object_position": null,
            "order": null,
            "overflow": null,
            "overflow_x": null,
            "overflow_y": null,
            "padding": null,
            "right": null,
            "top": null,
            "visibility": null,
            "width": null
          }
        },
        "f7cb56a03caf49ebbcb5ef3db46b2923": {
          "model_module": "@jupyter-widgets/controls",
          "model_name": "ProgressStyleModel",
          "model_module_version": "1.5.0",
          "state": {
            "_model_module": "@jupyter-widgets/controls",
            "_model_module_version": "1.5.0",
            "_model_name": "ProgressStyleModel",
            "_view_count": null,
            "_view_module": "@jupyter-widgets/base",
            "_view_module_version": "1.2.0",
            "_view_name": "StyleView",
            "bar_color": null,
            "description_width": ""
          }
        },
        "d2ae1a14a3a3446c925ef7374eed4ee8": {
          "model_module": "@jupyter-widgets/base",
          "model_name": "LayoutModel",
          "model_module_version": "1.2.0",
          "state": {
            "_model_module": "@jupyter-widgets/base",
            "_model_module_version": "1.2.0",
            "_model_name": "LayoutModel",
            "_view_count": null,
            "_view_module": "@jupyter-widgets/base",
            "_view_module_version": "1.2.0",
            "_view_name": "LayoutView",
            "align_content": null,
            "align_items": null,
            "align_self": null,
            "border": null,
            "bottom": null,
            "display": null,
            "flex": null,
            "flex_flow": null,
            "grid_area": null,
            "grid_auto_columns": null,
            "grid_auto_flow": null,
            "grid_auto_rows": null,
            "grid_column": null,
            "grid_gap": null,
            "grid_row": null,
            "grid_template_areas": null,
            "grid_template_columns": null,
            "grid_template_rows": null,
            "height": null,
            "justify_content": null,
            "justify_items": null,
            "left": null,
            "margin": null,
            "max_height": null,
            "max_width": null,
            "min_height": null,
            "min_width": null,
            "object_fit": null,
            "object_position": null,
            "order": null,
            "overflow": null,
            "overflow_x": null,
            "overflow_y": null,
            "padding": null,
            "right": null,
            "top": null,
            "visibility": null,
            "width": null
          }
        },
        "4ea8c9e22a9845ecb5b3410dc2449f23": {
          "model_module": "@jupyter-widgets/controls",
          "model_name": "DescriptionStyleModel",
          "model_module_version": "1.5.0",
          "state": {
            "_model_module": "@jupyter-widgets/controls",
            "_model_module_version": "1.5.0",
            "_model_name": "DescriptionStyleModel",
            "_view_count": null,
            "_view_module": "@jupyter-widgets/base",
            "_view_module_version": "1.2.0",
            "_view_name": "StyleView",
            "description_width": ""
          }
        },
        "21792355742d4efbb06868b9a2486228": {
          "model_module": "@jupyter-widgets/controls",
          "model_name": "VBoxModel",
          "model_module_version": "1.5.0",
          "state": {
            "_dom_classes": [],
            "_model_module": "@jupyter-widgets/controls",
            "_model_module_version": "1.5.0",
            "_model_name": "VBoxModel",
            "_view_count": null,
            "_view_module": "@jupyter-widgets/controls",
            "_view_module_version": "1.5.0",
            "_view_name": "VBoxView",
            "box_style": "",
            "children": [
              "IPY_MODEL_36c631781c844592b1f4850e1ce8c9fb"
            ],
            "layout": "IPY_MODEL_1bc888a4790b433bbe0c52e802d40d8e"
          }
        },
        "36c631781c844592b1f4850e1ce8c9fb": {
          "model_module": "@jupyter-widgets/controls",
          "model_name": "HBoxModel",
          "model_module_version": "1.5.0",
          "state": {
            "_dom_classes": [],
            "_model_module": "@jupyter-widgets/controls",
            "_model_module_version": "1.5.0",
            "_model_name": "HBoxModel",
            "_view_count": null,
            "_view_module": "@jupyter-widgets/controls",
            "_view_module_version": "1.5.0",
            "_view_name": "HBoxView",
            "box_style": "",
            "children": [
              "IPY_MODEL_60b8b5ea0839410d8045ab3498f84b85",
              "IPY_MODEL_73a15b8bb17347458677ecb9ae2bc5d7"
            ],
            "layout": "IPY_MODEL_20fa897d8e4940198d66200d1c9da3c3"
          }
        },
        "1bc888a4790b433bbe0c52e802d40d8e": {
          "model_module": "@jupyter-widgets/base",
          "model_name": "LayoutModel",
          "model_module_version": "1.2.0",
          "state": {
            "_model_module": "@jupyter-widgets/base",
            "_model_module_version": "1.2.0",
            "_model_name": "LayoutModel",
            "_view_count": null,
            "_view_module": "@jupyter-widgets/base",
            "_view_module_version": "1.2.0",
            "_view_name": "LayoutView",
            "align_content": null,
            "align_items": null,
            "align_self": null,
            "border": null,
            "bottom": null,
            "display": null,
            "flex": null,
            "flex_flow": null,
            "grid_area": null,
            "grid_auto_columns": null,
            "grid_auto_flow": null,
            "grid_auto_rows": null,
            "grid_column": null,
            "grid_gap": null,
            "grid_row": null,
            "grid_template_areas": null,
            "grid_template_columns": null,
            "grid_template_rows": null,
            "height": null,
            "justify_content": null,
            "justify_items": null,
            "left": null,
            "margin": null,
            "max_height": null,
            "max_width": null,
            "min_height": null,
            "min_width": null,
            "object_fit": null,
            "object_position": null,
            "order": null,
            "overflow": null,
            "overflow_x": null,
            "overflow_y": null,
            "padding": null,
            "right": null,
            "top": null,
            "visibility": null,
            "width": null
          }
        },
        "60b8b5ea0839410d8045ab3498f84b85": {
          "model_module": "@jupyter-widgets/controls",
          "model_name": "IntProgressModel",
          "model_module_version": "1.5.0",
          "state": {
            "_dom_classes": [],
            "_model_module": "@jupyter-widgets/controls",
            "_model_module_version": "1.5.0",
            "_model_name": "IntProgressModel",
            "_view_count": null,
            "_view_module": "@jupyter-widgets/controls",
            "_view_module_version": "1.5.0",
            "_view_name": "ProgressView",
            "bar_style": "success",
            "description": "100.00%",
            "description_tooltip": null,
            "layout": "IPY_MODEL_3bf2efef8770439f81b103bc557dcc46",
            "max": 7,
            "min": 0,
            "orientation": "horizontal",
            "style": "IPY_MODEL_9556044660bb4f688e115d1aa12e432a",
            "value": 7
          }
        },
        "73a15b8bb17347458677ecb9ae2bc5d7": {
          "model_module": "@jupyter-widgets/controls",
          "model_name": "LabelModel",
          "model_module_version": "1.5.0",
          "state": {
            "_dom_classes": [],
            "_model_module": "@jupyter-widgets/controls",
            "_model_module_version": "1.5.0",
            "_model_name": "LabelModel",
            "_view_count": null,
            "_view_module": "@jupyter-widgets/controls",
            "_view_module_version": "1.5.0",
            "_view_name": "LabelView",
            "description": "",
            "description_tooltip": null,
            "layout": "IPY_MODEL_b50c5855525b4b31aab1193ae1028724",
            "placeholder": "​",
            "style": "IPY_MODEL_81727de74d1d413999a20d49cd7e0c35",
            "value": "7 / 7"
          }
        },
        "20fa897d8e4940198d66200d1c9da3c3": {
          "model_module": "@jupyter-widgets/base",
          "model_name": "LayoutModel",
          "model_module_version": "1.2.0",
          "state": {
            "_model_module": "@jupyter-widgets/base",
            "_model_module_version": "1.2.0",
            "_model_name": "LayoutModel",
            "_view_count": null,
            "_view_module": "@jupyter-widgets/base",
            "_view_module_version": "1.2.0",
            "_view_name": "LayoutView",
            "align_content": null,
            "align_items": null,
            "align_self": null,
            "border": null,
            "bottom": null,
            "display": null,
            "flex": null,
            "flex_flow": null,
            "grid_area": null,
            "grid_auto_columns": null,
            "grid_auto_flow": null,
            "grid_auto_rows": null,
            "grid_column": null,
            "grid_gap": null,
            "grid_row": null,
            "grid_template_areas": null,
            "grid_template_columns": null,
            "grid_template_rows": null,
            "height": null,
            "justify_content": null,
            "justify_items": null,
            "left": null,
            "margin": null,
            "max_height": null,
            "max_width": null,
            "min_height": null,
            "min_width": null,
            "object_fit": null,
            "object_position": null,
            "order": null,
            "overflow": null,
            "overflow_x": null,
            "overflow_y": null,
            "padding": null,
            "right": null,
            "top": null,
            "visibility": null,
            "width": null
          }
        },
        "3bf2efef8770439f81b103bc557dcc46": {
          "model_module": "@jupyter-widgets/base",
          "model_name": "LayoutModel",
          "model_module_version": "1.2.0",
          "state": {
            "_model_module": "@jupyter-widgets/base",
            "_model_module_version": "1.2.0",
            "_model_name": "LayoutModel",
            "_view_count": null,
            "_view_module": "@jupyter-widgets/base",
            "_view_module_version": "1.2.0",
            "_view_name": "LayoutView",
            "align_content": null,
            "align_items": null,
            "align_self": null,
            "border": null,
            "bottom": null,
            "display": null,
            "flex": null,
            "flex_flow": null,
            "grid_area": null,
            "grid_auto_columns": null,
            "grid_auto_flow": null,
            "grid_auto_rows": null,
            "grid_column": null,
            "grid_gap": null,
            "grid_row": null,
            "grid_template_areas": null,
            "grid_template_columns": null,
            "grid_template_rows": null,
            "height": null,
            "justify_content": null,
            "justify_items": null,
            "left": null,
            "margin": null,
            "max_height": null,
            "max_width": null,
            "min_height": null,
            "min_width": null,
            "object_fit": null,
            "object_position": null,
            "order": null,
            "overflow": null,
            "overflow_x": null,
            "overflow_y": null,
            "padding": null,
            "right": null,
            "top": null,
            "visibility": null,
            "width": null
          }
        },
        "9556044660bb4f688e115d1aa12e432a": {
          "model_module": "@jupyter-widgets/controls",
          "model_name": "ProgressStyleModel",
          "model_module_version": "1.5.0",
          "state": {
            "_model_module": "@jupyter-widgets/controls",
            "_model_module_version": "1.5.0",
            "_model_name": "ProgressStyleModel",
            "_view_count": null,
            "_view_module": "@jupyter-widgets/base",
            "_view_module_version": "1.2.0",
            "_view_name": "StyleView",
            "bar_color": null,
            "description_width": ""
          }
        },
        "b50c5855525b4b31aab1193ae1028724": {
          "model_module": "@jupyter-widgets/base",
          "model_name": "LayoutModel",
          "model_module_version": "1.2.0",
          "state": {
            "_model_module": "@jupyter-widgets/base",
            "_model_module_version": "1.2.0",
            "_model_name": "LayoutModel",
            "_view_count": null,
            "_view_module": "@jupyter-widgets/base",
            "_view_module_version": "1.2.0",
            "_view_name": "LayoutView",
            "align_content": null,
            "align_items": null,
            "align_self": null,
            "border": null,
            "bottom": null,
            "display": null,
            "flex": null,
            "flex_flow": null,
            "grid_area": null,
            "grid_auto_columns": null,
            "grid_auto_flow": null,
            "grid_auto_rows": null,
            "grid_column": null,
            "grid_gap": null,
            "grid_row": null,
            "grid_template_areas": null,
            "grid_template_columns": null,
            "grid_template_rows": null,
            "height": null,
            "justify_content": null,
            "justify_items": null,
            "left": null,
            "margin": null,
            "max_height": null,
            "max_width": null,
            "min_height": null,
            "min_width": null,
            "object_fit": null,
            "object_position": null,
            "order": null,
            "overflow": null,
            "overflow_x": null,
            "overflow_y": null,
            "padding": null,
            "right": null,
            "top": null,
            "visibility": null,
            "width": null
          }
        },
        "81727de74d1d413999a20d49cd7e0c35": {
          "model_module": "@jupyter-widgets/controls",
          "model_name": "DescriptionStyleModel",
          "model_module_version": "1.5.0",
          "state": {
            "_model_module": "@jupyter-widgets/controls",
            "_model_module_version": "1.5.0",
            "_model_name": "DescriptionStyleModel",
            "_view_count": null,
            "_view_module": "@jupyter-widgets/base",
            "_view_module_version": "1.2.0",
            "_view_name": "StyleView",
            "description_width": ""
          }
        }
      }
    }
  },
  "cells": [
    {
      "cell_type": "markdown",
      "metadata": {
        "id": "view-in-github",
        "colab_type": "text"
      },
      "source": [
        "<a href=\"https://colab.research.google.com/github/sadashish2002/Data_Wrangling_Using_Python_Library/blob/main/Copy_of_Data_Wrangling_Code_Optimisation.ipynb\" target=\"_parent\"><img src=\"https://colab.research.google.com/assets/colab-badge.svg\" alt=\"Open In Colab\"/></a>"
      ]
    },
    {
      "cell_type": "markdown",
      "source": [
        "#**Session flow**"
      ],
      "metadata": {
        "id": "F9i94uirg2Yg"
      }
    },
    {
      "cell_type": "markdown",
      "source": [
        "\n",
        "📋**Code Optimization in Data Wrangling**\n",
        "\n",
        "* **Introduction**\n",
        "\n",
        "* What is data wrangling and its importance\n",
        "\n",
        "* The need for code optimization in data wrangling\n",
        "\n",
        "💡 **Techniques for Code Optimization**\n",
        "\n",
        "* Using vectorized operations\n",
        "\n",
        "* Avoiding loops for efficiency\n",
        "\n",
        "* Reducing memory usage\n",
        "\n",
        "* Activity: Guess the Word\n",
        "\n",
        "🚀 **Strategies for Parallel and Distributed Data Wrangling**\n",
        "\n",
        "* Utilizing multiple processors for speed\n",
        "\n",
        "* Leveraging distributed computing resources\n",
        "\n",
        "* Improving code performance for large datasets\n",
        "\n",
        "* Activity: Fill in the Blanks\n",
        "\n",
        "🏆 **Best Practices for Efficient Data Wrangling**\n",
        "\n",
        "* Understanding your data\n",
        "\n",
        "* Keeping your code clean and organized\n",
        "\n",
        "* Collaborating with others effectively\n",
        "\n",
        "\n",
        "🔍 **Conclusion**\n",
        "\n",
        "* Recap of the importance of code optimization in data wrangling\n",
        "\n",
        "* Advantages of efficient code for analysis and processing times\n",
        "\n",
        "📝 **Summary**\n",
        "\n",
        "* What did we learn?\n",
        "* Shortcomings & Challenges\n",
        "* Best Practices & Tips\n",
        "\n",
        "🔗 **Enhance your Knowledge**\n",
        "\n",
        "* Mnemonic\n",
        "* Additional Resources\n",
        "\n",
        "🔍 **Try it Yourself**\n",
        "\n",
        "* Activities\n",
        "* Social Engagement\n",
        "\n",
        "Let's dive in and explore the world of code optimization in data wrangling!"
      ],
      "metadata": {
        "id": "a8gS_eNl46La"
      }
    },
    {
      "cell_type": "markdown",
      "source": [
        "##Here's a visualisation tool to help you out! ⭐⭐⭐"
      ],
      "metadata": {
        "id": "BweR0lO0TaLS"
      }
    },
    {
      "cell_type": "markdown",
      "source": [
        "**CS Circles Visualize** is an online tool that allows users to visualize the execution of Python code step by step. It can be used to better understand how code works and identify errors in code, making it a valuable resource for learners of all levels.\n",
        "\n",
        "To use CS Circles Visualize, users simply need to input their Python code into the text editor and click the \"Visualize Code\" button. The tool will then display the code execution step by step, highlighting each line of code as it is executed and displaying the current value of variables. Users can also pause the execution at any point to inspect the current state of the program.\n",
        "\n",
        "CS Circles Visualize can be particularly useful for beginners who are just starting to learn Python or programming in general, as it can help them visualize the concepts they are learning in a more concrete way. However, it can also be used by more experienced programmers who want to better understand how their code works or troubleshoot errors.\n",
        "\n",
        "**Here's the [link](https://cscircles.cemc.uwaterloo.ca/visualize#mode=display) to the resource**"
      ],
      "metadata": {
        "id": "W5mzTuyBTjN_"
      }
    },
    {
      "cell_type": "markdown",
      "source": [
        "# **👨🏻‍🎓 Learning Objective 👨🏻‍🎓**"
      ],
      "metadata": {
        "id": "z6VJ8Phodljd"
      }
    },
    {
      "cell_type": "markdown",
      "source": [
        "### **Introduction**"
      ],
      "metadata": {
        "id": "6ZzWpxSnju6x"
      }
    },
    {
      "cell_type": "markdown",
      "source": [
        "👋 Hi students! In this lesson, we'll be discussing the importance of code optimization in data wrangling, techniques for optimizing code, best practices for efficient data wrangling, and strategies for parallel and distributed data wrangling.\n",
        "\n",
        "🐍 Data wrangling involves transforming and manipulating data to make it more useful for analysis. As datasets grow in size, data wrangling code can become slow and inefficient, leading to longer processing times and slower analysis.\n",
        "🤖 This is where code optimization comes in. Code optimization involves making your code more efficient and streamlined, to improve its performance and speed up processing times. This is especially important when working with large datasets.\n",
        "\n",
        "📊 In this lesson, we'll explore some techniques for optimizing your code, including using vectorized operations, avoiding loops, reducing memory usage, and parallel processing.\n",
        "\n",
        "🚀 We'll also discuss best practices for efficient data wrangling, such as understanding your data, keeping your code clean, and collaborating with others.\n",
        "\n",
        "💻 Finally, we'll discuss strategies for parallel and distributed data wrangling, which involve using multiple processors or distributed computing resources to speed up processing times and improve the performance of your code.\n",
        "\n",
        "📝 By understanding the importance of code optimization and using these techniques and best practices, you can improve the performance of your data wrangling code and make it easier to work with large datasets and perform complex analyses.\n",
        "\n",
        "🐍 So, let's dive in and explore the world of code optimization in data wrangling!\n"
      ],
      "metadata": {
        "id": "TZx87ZfD3LLm"
      }
    },
    {
      "cell_type": "markdown",
      "source": [
        "###**Theme**##\n",
        "\n",
        "\n",
        "📊 In today's data-driven world, learning data wrangling and code optimization is crucial! 🚀 Mastering these techniques empowers you to efficiently clean, preprocess, and transform raw data into a usable format, saving time  and resources . With clean and accurate data, you make better decisions 🎯 and gain valuable insights 📈. Optimizing your code leads to faster data analysis  and swift responses to challenges . It improves overall performance 💪🏼, making the most of your hardware and software 🌐. These skills open doors to diverse career opportunities  in data science, machine learning, business intelligence, and research. As data evolves, your ability to wrangle and optimize code becomes an ongoing, adaptable process 🔄. Moreover, it brings cost savings  to organizations and allows you to craft creative, impactful data-driven solutions 🌠. Embrace data wrangling and code optimization to stay ahead in the data revolution! 💡"
      ],
      "metadata": {
        "id": "I5cu7xluXmr1"
      }
    },
    {
      "cell_type": "markdown",
      "source": [
        "### **Primary Goals**"
      ],
      "metadata": {
        "id": "C9DrFy85lY3T"
      }
    },
    {
      "cell_type": "markdown",
      "source": [
        "👋 Hi there! In this lesson, we'll be discussing the primary goals of understanding the importance of code optimization in data wrangling, techniques for code optimization, best practices for efficient data wrangling, and strategies for parallel and distributed data wrangling, using some wonderful emojis. 📊\n",
        "\n",
        "🐍 Here are the primary goals of this lesson:\n",
        "\n",
        "🤔 To understand the importance of code optimization in data wrangling and how it can improve the performance of your code and speed up processing times.\n",
        "\n",
        "🚀 To learn techniques for optimizing your code, such as using vectorized\n",
        "operations, avoiding loops, reducing memory usage, and parallel processing.\n",
        "\n",
        "📚 To explore best practices for efficient data wrangling, such as understanding your data, keeping your code clean, and collaborating with others.\n",
        "\n",
        "🤖 To understand strategies for parallel and distributed data wrangling, which involve using multiple processors or distributed computing resources to speed up processing times and improve the performance of your code.\n",
        "\n",
        "📝 By achieving these primary goals, you'll have a better understanding of how to optimize your data wrangling code and make it more efficient, allowing you to work with large datasets and perform complex analyses more easily.\n",
        "\n",
        "🐍 So, let's get started and learn how to optimize our data wrangling code using these wonderful techniques and best practices!\n"
      ],
      "metadata": {
        "id": "UJfDjA-w4EEK"
      }
    },
    {
      "cell_type": "markdown",
      "source": [
        "# **📖 Learning Material 📖**"
      ],
      "metadata": {
        "id": "PkyqSsKBZ1mm"
      }
    },
    {
      "cell_type": "markdown",
      "source": [
        "##**Importance of Code Optimization in Data Wrangling**"
      ],
      "metadata": {
        "id": "giXBlRoeapdQ"
      }
    },
    {
      "cell_type": "markdown",
      "source": [
        "🔍 Data wrangling involves cleaning, transforming, and preparing raw data for analysis, which can be computationally intensive and time-consuming.\n",
        "\n",
        "💻 Code optimization is the process of improving the performance of code by reducing its resource usage, improving its efficiency, and making it more maintainable.\n",
        "\n",
        "🌟 By optimizing their code for data wrangling, developers can reduce the time and resources required to perform tasks such as cleaning, transforming, and merging data.\n",
        "\n",
        "📈 Code optimization can also improve the scalability of data wrangling tasks, allowing data analysts and data scientists to work with larger datasets more efficiently.\n",
        "\n",
        "🚀 Some techniques for code optimization in data wrangling include:\n",
        "\n",
        "1. Vectorization, which involves performing operations on entire arrays or matrices of data rather than on individual elements\n",
        "\n",
        "2. Caching, which involves storing the results of computationally intensive operations in memory for faster access\n",
        "\n",
        "3. Parallelization, which involves splitting up a task into smaller, independent parts that can be executed simultaneously on multiple processors or cores\n",
        "\n",
        "4. Concurrency, which involves the ability to execute multiple tasks or processes simultaneously, either on the same processor/core (using techniques such as threads or asyncio) or across multiple processors/cores (using techniques such as multiprocessing or distributed computing).\n"
      ],
      "metadata": {
        "id": "FAvJVgYmbSQ6"
      }
    },
    {
      "cell_type": "markdown",
      "source": [
        "##**1. NumPy for vectorization:**\n",
        "\n"
      ],
      "metadata": {
        "id": "tmjHs3BBbsfs"
      }
    },
    {
      "cell_type": "markdown",
      "source": [
        "NumPy is a popular Python library for numerical computing that allows users to perform operations on entire arrays or matrices of data rather than on individual elements. This is known as vectorization and can significantly improve the performance of code by reducing the number of loop iterations required. For example, consider the following code for calculating the dot product of two arrays:"
      ],
      "metadata": {
        "id": "xSXyg0zyAubl"
      }
    },
    {
      "cell_type": "code",
      "source": [
        "import numpy as np\n",
        "\n",
        "a = np.array([1, 2, 3])\n",
        "b = np.array([4, 5, 6])\n",
        "\n",
        "dot_product = 0\n",
        "for i in range(len(a)):\n",
        "    dot_product += a[i] * b[i]\n",
        "\n",
        "print(dot_product)"
      ],
      "metadata": {
        "id": "C3g3MAmfBlsm",
        "colab": {
          "base_uri": "https://localhost:8080/"
        },
        "outputId": "b9e04cb5-2825-477c-8797-6d984dd44a04"
      },
      "execution_count": null,
      "outputs": [
        {
          "output_type": "stream",
          "name": "stdout",
          "text": [
            "32\n"
          ]
        }
      ]
    },
    {
      "cell_type": "markdown",
      "source": [
        "This code uses a for loop to iterate over each element of the arrays and calculate the dot product. However, this can be slow and inefficient for large arrays. With NumPy, we can instead use the dot function to perform the same operation in a single step:"
      ],
      "metadata": {
        "id": "wMDBytxlb3HI"
      }
    },
    {
      "cell_type": "code",
      "source": [
        "dot_product=np.dot(a,b)\n",
        "print(dot_product)\n",
        "\n",
        "croo_product = np.cross(a,b)\n",
        "print(croo_product)"
      ],
      "metadata": {
        "colab": {
          "base_uri": "https://localhost:8080/"
        },
        "id": "1AoojRsf8Imo",
        "outputId": "e6f01f1f-8d51-4994-aa7f-cf221e4a3234"
      },
      "execution_count": null,
      "outputs": [
        {
          "output_type": "stream",
          "name": "stdout",
          "text": [
            "32\n",
            "[-3  6 -3]\n"
          ]
        }
      ]
    },
    {
      "cell_type": "markdown",
      "source": [
        "##**2. Joblib for Caching:**\n",
        "\n"
      ],
      "metadata": {
        "id": "1N2sZHmTb7qK"
      }
    },
    {
      "cell_type": "markdown",
      "source": [
        "Caching involves storing the results of computationally intensive operations in memory for faster access. This can be especially useful in data wrangling tasks where the same operation may be performed multiple times on the same data. The joblib library provides a simple way to cache function calls in Python. For example, consider the following code for calculating the mean of a list of numbers:"
      ],
      "metadata": {
        "id": "rVYZ4_5qAyJH"
      }
    },
    {
      "cell_type": "code",
      "source": [
        "from joblib import Memory\n",
        "\n",
        "mem = Memory(location ='cache')\n",
        "\n",
        "@mem.cache\n",
        "def calc_mean(numbers):\n",
        "  print(\"Calculating mean .....\")\n",
        "  mean = sum(numbers)/len(numbers)\n",
        "\n",
        "  return mean\n",
        "list1 = [2,3,4,5,6,7]\n",
        "res1 =  calc_mean(list1)\n",
        "print(res1)"
      ],
      "metadata": {
        "colab": {
          "base_uri": "https://localhost:8080/"
        },
        "id": "Y9v9Gx8mKxqP",
        "outputId": "115231dd-eddf-4168-d516-079ab1ebab49"
      },
      "execution_count": null,
      "outputs": [
        {
          "output_type": "stream",
          "name": "stdout",
          "text": [
            "4.5\n"
          ]
        }
      ]
    },
    {
      "cell_type": "code",
      "source": [
        "from joblib import Memory\n",
        "\n",
        "# create a Memory object to cache function calls\n",
        "mem = Memory(location='cache')\n",
        "\n",
        "# define a function to calculate the mean of a list of numbers\n",
        "@mem.cache\n",
        "def calc_mean(numbers):\n",
        "    print(\"Calculating mean...\")\n",
        "    total = sum(numbers)\n",
        "    return total / len(numbers)\n",
        "\n",
        "# define a list of numbers to use for testing\n",
        "my_list = [1, 2, 3, 4, 5]\n",
        "my_list2 = [1,9, 2, 3, 4, 5]\n",
        "\n",
        "# call the function the first time, which will calculate the mean and cache the result\n",
        "result1 = calc_mean(my_list)\n",
        "\n",
        "# call the function again with the same argument, which will retrieve the cached result instead of recalculating it\n",
        "result2 = calc_mean(my_list2)\n",
        "result3 = calc_mean(my_list)\n",
        "result4 = calc_mean(my_list2)\n",
        "\n",
        "\n",
        "# print the results\n",
        "print(result1)  # should be 3.0\n",
        "print(result2)  # should also be 3.0, and the \"Calculating mean...\" message should not be printed\n",
        "print(result3)  # should also be 3.0, and the \"Calculating mean...\" message should not be printed\n",
        "print(result4)  # should also be 3.0, and the \"Calculating mean...\" message should not be printed\n"
      ],
      "metadata": {
        "id": "2XiVqJRPB1x8",
        "colab": {
          "base_uri": "https://localhost:8080/"
        },
        "outputId": "c8d1e979-7e9e-4242-9723-431b4d96a088"
      },
      "execution_count": null,
      "outputs": [
        {
          "output_type": "stream",
          "name": "stdout",
          "text": [
            "3.0\n",
            "4.0\n",
            "3.0\n",
            "4.0\n"
          ]
        }
      ]
    },
    {
      "cell_type": "markdown",
      "source": [
        "In this example, we start by importing the **Memory** class from the **joblib** library. We then create a Memory object with the **location** parameter set to **'cache'**, which specifies where to store the cached results.\n",
        "\n",
        "Next, we define a function called **calc_mean** that takes a list of numbers as input and calculates their mean. We decorate the function with the **@mem.cache** decorator, which tells joblib to cache the results of this function call based on its input arguments.\n",
        "\n",
        "We then define a list of numbers my_list to use for testing. We call the calc_mean function twice with the same argument, which should result in the function being executed only once and the second call retrieving the cached result.\n",
        "\n",
        "Finally, we print the results of the two function calls, which should both be 3.0 (the mean of the input list), and the \"Calculating mean...\" message should only be printed once, during the first function call.\n",
        "\n",
        "\n",
        "\n"
      ],
      "metadata": {
        "id": "0wJNCtcOAE7A"
      }
    },
    {
      "cell_type": "markdown",
      "source": [
        "##**Activity: Guess the word**\n",
        "\n",
        "**Riddle 1:**\n",
        "\n",
        "I'm the magician of arrays, performing tricks so bold,\n",
        "In Python's realm, my power unfolds.\n",
        "With lightning speed, I make computations fly,\n",
        "Vectorization is my art, no need to wonder why.\n",
        "\n",
        "For loops, step aside, let me take the stage,\n",
        "In elegant arrays, I engage.\n",
        "Efficient and fast, my spells take flight,\n",
        "Performing math with sheer delight.\n",
        "\n",
        "Element-wise operations, my signature show,\n",
        "Multiplications, additions, watch them grow.\n",
        "Linear algebra, my domain so grand,\n",
        "Matrix manipulations, I command.\n",
        "\n",
        "Who am I, this array sorcerer?\n",
        "In numerical Python, I reign forever.\n",
        "\n",
        "What am I?\n",
        "\n",
        "**Riddle 2:**\n",
        "\n",
        "In Python's world, I hide secrets unseen,\n",
        "A caching magician, with powers so keen.\n",
        "Efficiently storing, like a treasure chest,\n",
        "Results of functions, to save you from the rest.\n",
        "\n",
        "Call me to action, and I'll swiftly begin,\n",
        "Caching computations, a trick not thin.\n",
        "Once computed, I'll keep them in store,\n",
        "So future calls won't compute anymore.\n",
        "\n",
        "Time-consuming tasks, I'll speed up the play,\n",
        "A performance booster, in every way.\n",
        "Parallel processing, a talent so vast,\n",
        "With concurrency, my magic's unsurpassed.\n",
        "\n",
        "Who am I, this caching whiz?\n",
        "In Python's realm, I surely exist.\n",
        "\n",
        "What am I?\n",
        "\n",
        "**Answer 1: Numpy (for vectorization and array operations)**\n",
        "\n",
        "**Answer 2: Joblib (for caching and parallel processing)**\n",
        "\n",
        "\n",
        "\n",
        "\n"
      ],
      "metadata": {
        "id": "waPKBgUc6rqA"
      }
    },
    {
      "cell_type": "markdown",
      "source": [
        "##<b>3. Pandarallel for Parallelization"
      ],
      "metadata": {
        "id": "jgmXW0XDCPhP"
      }
    },
    {
      "cell_type": "markdown",
      "source": [
        "Let's install Pandarallel module first."
      ],
      "metadata": {
        "id": "AoRewGFUCkfd"
      }
    },
    {
      "cell_type": "code",
      "source": [
        "!pip install pandarallel"
      ],
      "metadata": {
        "colab": {
          "base_uri": "https://localhost:8080/"
        },
        "id": "d6SY8uDVBssg",
        "outputId": "5f48e7d2-0781-491b-88bf-582caed0ae03"
      },
      "execution_count": null,
      "outputs": [
        {
          "output_type": "stream",
          "name": "stdout",
          "text": [
            "Requirement already satisfied: pandarallel in /usr/local/lib/python3.10/dist-packages (1.6.5)\n",
            "Requirement already satisfied: dill>=0.3.1 in /usr/local/lib/python3.10/dist-packages (from pandarallel) (0.3.7)\n",
            "Requirement already satisfied: pandas>=1 in /usr/local/lib/python3.10/dist-packages (from pandarallel) (1.5.3)\n",
            "Requirement already satisfied: psutil in /usr/local/lib/python3.10/dist-packages (from pandarallel) (5.9.5)\n",
            "Requirement already satisfied: python-dateutil>=2.8.1 in /usr/local/lib/python3.10/dist-packages (from pandas>=1->pandarallel) (2.8.2)\n",
            "Requirement already satisfied: pytz>=2020.1 in /usr/local/lib/python3.10/dist-packages (from pandas>=1->pandarallel) (2023.3.post1)\n",
            "Requirement already satisfied: numpy>=1.21.0 in /usr/local/lib/python3.10/dist-packages (from pandas>=1->pandarallel) (1.23.5)\n",
            "Requirement already satisfied: six>=1.5 in /usr/local/lib/python3.10/dist-packages (from python-dateutil>=2.8.1->pandas>=1->pandarallel) (1.16.0)\n"
          ]
        }
      ]
    },
    {
      "cell_type": "code",
      "source": [
        "import pandas as pd\n",
        "from pandarallel import pandarallel\n",
        "\n",
        "pandarallel.initialize(nb_workers=5,progress_bar =True)\n",
        "\n",
        "df = pd.DataFrame({'A':[1,2,3,4,5,6],'B':[6,7,8,9,10,7]})\n",
        "\n",
        "def my_fun(row):\n",
        "   return row['A'] + row['B']\n",
        "\n",
        "df.parallel_apply(my_fun,axis =1)\n",
        "\n",
        "\n",
        "\n"
      ],
      "metadata": {
        "colab": {
          "base_uri": "https://localhost:8080/",
          "height": 338,
          "referenced_widgets": [
            "a97653062c3043669fb12a1af8870f96",
            "9c248e2659e34907a3c73fda66a3710f",
            "387d55f3c2dd43aaa23b562fccf4a03a",
            "c2d8f3e1d89d4d0c866614f2780393cd",
            "b0b373b22a5243539224793dee685bc3",
            "859bdf238f1e40a597d4e6643c9a8edf",
            "fc7631e7cf6a47c584c750d23ea65f66",
            "9b7f963280c440bdbc003659139c6131",
            "56ce850be37748bfa37a194e726a2a31",
            "88da6f8c48bc4aa29e0b3461f91db3bd",
            "3610decf4ee74df6ac36a5cf2cf7d35a",
            "b88568f0fa8d4af5a4842a9144f88e8b",
            "d546d06633af4e479ab1edece31b0cbb",
            "d1b95238083649c693701a5a39d4ad26",
            "3dd37a287b6148bda8ee5e57a5be2228",
            "9db06a3a7e9b41629ad576018a63a3f2",
            "80e363884ee74a94a8a03800b95c70e7",
            "631c9d1db57f41138729be3233f355f2",
            "a0220b02dce14aaa8c3c0cf7298a2b04",
            "2ab5b846ee85417f8ac34b3f8af37c42",
            "33af43da353c4760a3f23bcbf74f8a32",
            "e9e399bb39894704b734140d7cc3fe12",
            "11f3bf278640410aa967114c5e19475a",
            "c17bd58e67414f32be43df81c6a40aa3",
            "ffeef18c299647c4b2cd235009ab932b",
            "036c8ad5d81447a2b2424235f1483eec",
            "4b62f48c82044f9f9399b7493a6dedc6",
            "102fc09a9ed646de8f6aad800c172f12",
            "0a21c759fe494d658ff63db8fa90964d",
            "8ac6bf60ab1a4b0290f0e8d4f94e5459",
            "b76f79ed0c844f15a8ca63ca6f9a15bf",
            "5f937f5e2d4b441f93d2512fcb7a3d47",
            "fcf1c6ed693e473fa9e0b17abf41519b",
            "02c9591fd3744357b8670b3e70bdacb0",
            "557f2a02025b45a2a517fc9c0bf7deca",
            "c816c2425c8e4848aabaa90387fab1b1",
            "d73abc8f4eac4ba588e9af0dd13b6f1d",
            "a9fab5dcddbe41c59eeeae153cfb4826",
            "e0b6270ba414410293c25dd6625c9ecb",
            "326a8116c05c49ed98031dab03ce05b5",
            "57c4b1b6208b48a993d67dd548f79254",
            "540c599b61354fe2aa74bca6ce48f4fb"
          ]
        },
        "id": "-bHlYtxScq_o",
        "outputId": "97a1137e-0d57-498c-81fe-0ed53901812b"
      },
      "execution_count": null,
      "outputs": [
        {
          "output_type": "stream",
          "name": "stdout",
          "text": [
            "INFO: Pandarallel will run on 5 workers.\n",
            "INFO: Pandarallel will use Memory file system to transfer data between the main process and workers.\n"
          ]
        },
        {
          "output_type": "display_data",
          "data": {
            "text/plain": [
              "VBox(children=(HBox(children=(IntProgress(value=0, description='0.00%', max=2), Label(value='0 / 2'))), HBox(c…"
            ],
            "application/vnd.jupyter.widget-view+json": {
              "version_major": 2,
              "version_minor": 0,
              "model_id": "a97653062c3043669fb12a1af8870f96"
            }
          },
          "metadata": {}
        },
        {
          "output_type": "execute_result",
          "data": {
            "text/plain": [
              "0     7\n",
              "1     9\n",
              "2    11\n",
              "3    13\n",
              "4    15\n",
              "5    13\n",
              "dtype: int64"
            ]
          },
          "metadata": {},
          "execution_count": 57
        }
      ]
    },
    {
      "cell_type": "code",
      "source": [
        "import pandas as pd\n",
        "from pandarallel import pandarallel\n",
        "\n",
        "%time\n",
        "pandarallel.initialize(nb_workers=5,progress_bar=True)\n",
        "\n",
        "# create a sample dataframe\n",
        "df = pd.DataFrame({'A': [1, 2, 3, 4, 5], 'B': [6, 7, 8, 9, 10]})\n",
        "\n",
        "# define a function to apply to each row of the dataframe\n",
        "def my_func(row):\n",
        "    return row['A'] + row['B']\n",
        "\n",
        "# use pandarallel to apply the function to each row in parallel\n",
        "result = df.parallel_apply(my_func, axis=1)\n",
        "\n",
        "# print the result\n",
        "print(result)"
      ],
      "metadata": {
        "colab": {
          "base_uri": "https://localhost:8080/",
          "height": 356,
          "referenced_widgets": [
            "0ab28585fe334e7f978130e9c9ded4f9",
            "7160e3c64bef44e386869fafc42f3d17",
            "976339f7cff44faeafe03db5508702ea",
            "169510a5028440b8b96a7d5c0881ee11",
            "14de4aadd9d14fd8b40e9737c4df2626",
            "e9817e6878e548fbbd752266ac5d27a0",
            "ff1f58799a0e4b5487ea2b6ef94734fc",
            "cf2d3aea48cb4f3499af2c6d4858bf34",
            "d73c5842db004a909edaecd6eddfe27c",
            "1d1e2beab38c463ba98d9a0ec627f33a",
            "35e6d6181947490e82ecab492d6106e0",
            "aa8c71cff5314a1792d38d70a9ad7c5b",
            "f213174ed3804af5977f4eaee8f83832",
            "a07cdb89cbe34ff2b4a02d05fc641daa",
            "10c609c296a34743bad9ffde6844b3fc",
            "da4a64aa8efa413f96c0640632dbb0cd",
            "a88f3243b9694042963e78083bcd2f98",
            "97ee2408ff214d61a1443c114b7ddf8a",
            "0bb9a94933b040d98786e91891dadf0c",
            "a48e7bd2adcb43c6afcf610f437676e7",
            "a84f1806d790434686bac783ff3ad752",
            "0f39de60fe9744bebb75dc906a88dc00",
            "4073b09394484fc6acf91debf810569d",
            "ea42d40454514521b684afda310cd524",
            "de8579e9f0a74abb9a9c995d85985f38",
            "08a13ab9bad140cfbbf60d7f87b09ae0",
            "fda66906b2914122a9178ab2e723101a",
            "85d12cee4b514a7fae04d1ab3d559fa0",
            "7070249897dc4a0b8f8df48aadd5e55a",
            "efa77124e99241559a8281291c4ca4c3",
            "f182bf2ee1d54857b171f00335b79083",
            "dbf2353f612c4b628fcd9d53ac47ee7d",
            "6a336d46898844c7869ef46130a4a761",
            "a9ad08dc71724d37bcfe6eb7912345b2",
            "0fcb0be4e03a4bfd802ce22ef461a689",
            "93914e264c7f45f0b63270ebcfeb6922",
            "18dd475bfb454f27895c2e3176402cfc",
            "b2623eb24a1c4f7596a7b02ab4e23fa6",
            "75ececbcd68f4057ae4e0cc6051ded29",
            "f7cb56a03caf49ebbcb5ef3db46b2923",
            "d2ae1a14a3a3446c925ef7374eed4ee8",
            "4ea8c9e22a9845ecb5b3410dc2449f23"
          ]
        },
        "id": "_fKDqhq4Bpnh",
        "outputId": "3e9586d1-f746-4c40-80e9-e70a5087c6a7"
      },
      "execution_count": null,
      "outputs": [
        {
          "output_type": "stream",
          "name": "stdout",
          "text": [
            "CPU times: user 5 µs, sys: 0 ns, total: 5 µs\n",
            "Wall time: 9.3 µs\n",
            "INFO: Pandarallel will run on 5 workers.\n",
            "INFO: Pandarallel will use Memory file system to transfer data between the main process and workers.\n"
          ]
        },
        {
          "output_type": "display_data",
          "data": {
            "text/plain": [
              "VBox(children=(HBox(children=(IntProgress(value=0, description='0.00%', max=1), Label(value='0 / 1'))), HBox(c…"
            ],
            "application/vnd.jupyter.widget-view+json": {
              "version_major": 2,
              "version_minor": 0,
              "model_id": "0ab28585fe334e7f978130e9c9ded4f9"
            }
          },
          "metadata": {}
        },
        {
          "output_type": "stream",
          "name": "stdout",
          "text": [
            "0     7\n",
            "1     9\n",
            "2    11\n",
            "3    13\n",
            "4    15\n",
            "dtype: int64\n"
          ]
        }
      ]
    },
    {
      "cell_type": "code",
      "source": [
        "import pandas as pd\n",
        "from pandarallel import pandarallel\n",
        "\n",
        "\n",
        "# initialize pandarallel\n",
        "%time\n",
        "pandarallel.initialize()\n",
        "\n",
        "# create a sample dataframe\n",
        "df = pd.DataFrame({'A': [1, 2, 3, 4, 5], 'B': [6, 7, 8, 9, 10]})\n",
        "\n",
        "# define a function to apply to each row of the dataframe\n",
        "def my_func(row):\n",
        "    return row['A'] + row['B']\n",
        "\n",
        "# use pandarallel to apply the function to each row in parallel\n",
        "result = df.parallel_apply(my_func, axis=1)\n",
        "\n",
        "# print the result\n",
        "print(result)"
      ],
      "metadata": {
        "colab": {
          "base_uri": "https://localhost:8080/"
        },
        "id": "lmvC8b56cPRc",
        "outputId": "7efe5f0d-ead5-4a65-d2d1-e44af5acdd80"
      },
      "execution_count": null,
      "outputs": [
        {
          "output_type": "stream",
          "name": "stdout",
          "text": [
            "CPU times: user 4 µs, sys: 0 ns, total: 4 µs\n",
            "Wall time: 7.87 µs\n",
            "INFO: Pandarallel will run on 1 workers.\n",
            "INFO: Pandarallel will use Memory file system to transfer data between the main process and workers.\n",
            "0     7\n",
            "1     9\n",
            "2    11\n",
            "3    13\n",
            "4    15\n",
            "dtype: int64\n"
          ]
        }
      ]
    },
    {
      "cell_type": "markdown",
      "source": [
        "##<b>🤔Do you Know🤔"
      ],
      "metadata": {
        "id": "1DXT-RsxEdMD"
      }
    },
    {
      "cell_type": "markdown",
      "source": [
        "Parallelization and concurrency are related concepts but they refer to different ways of achieving efficient use of computer resources.\n",
        "\n",
        "Concurrency refers to the ability to execute multiple tasks or processes simultaneously. This can be achieved through techniques such as threads, asyncio, and multiprocessing. With concurrency, multiple tasks can be executed at the same time, but each task is executed on the same processor or core. Concurrency allows you to execute tasks in an overlapping manner, which can improve responsiveness and throughput.\n",
        "\n",
        "Parallelization, on the other hand, refers to the ability to execute multiple tasks or processes simultaneously across multiple processors or cores. Parallelization can be achieved through techniques such as multiprocessing, multithreading, or distributed computing. With parallelization, multiple tasks can be executed on different processors or cores simultaneously, allowing you to achieve higher throughput and better performance.\n",
        "\n",
        "In summary, concurrency is about executing multiple tasks simultaneously on the same processor or core, while parallelization is about executing multiple tasks simultaneously on multiple processors or cores. Both techniques can be used to achieve efficient use of computer resources, but they have different advantages and limitations depending on the task at hand."
      ],
      "metadata": {
        "id": "pnKcA88lEh4w"
      }
    },
    {
      "cell_type": "markdown",
      "source": [
        "##**Asyncio for Concurrency**"
      ],
      "metadata": {
        "id": "2v8vXseq50Va"
      }
    },
    {
      "cell_type": "markdown",
      "source": [
        "Concurrency is achieved by dividing the task into smaller parts that can be executed independently and concurrently. Concurrency can be achieved using multiple techniques such as threads, asyncio, and multiprocessing.\n",
        "\n",
        "Here is an example of how to achieve concurrency using the **asyncio** library:"
      ],
      "metadata": {
        "id": "QZJfQ58K50Va"
      }
    },
    {
      "cell_type": "code",
      "source": [
        "import threading\n",
        "import time\n",
        "\n",
        "def task(name):\n",
        "    print(f'Starting task {name} ')\n",
        "    time.sleep(2) # simulate some work\n",
        "    print(f'Ending task {name} ')\n",
        "\n",
        "if __name__ == '__main__':\n",
        "    # Create 5 threads\n",
        "    threads = [threading.Thread(target=task, args=(i,)) for i in range(5)]\n",
        "\n",
        "    # Start the threads\n",
        "    for t in threads:\n",
        "        t.start()\n",
        "\n",
        "    # Wait for all threads to complete\n",
        "    for t in threads:\n",
        "      t.join()\n",
        "\n",
        "    print('All tasks completed')\n"
      ],
      "metadata": {
        "colab": {
          "base_uri": "https://localhost:8080/"
        },
        "outputId": "e1a1d973-0dce-415d-8a8b-28f257aaea7c",
        "id": "BoF_cKkq50Va"
      },
      "execution_count": null,
      "outputs": [
        {
          "output_type": "stream",
          "name": "stdout",
          "text": [
            "Starting task 0 Starting task 1 \n",
            "\n",
            "Starting task 2 \n",
            "Starting task 3 \n",
            "Starting task 4 \n",
            "Ending task 1 \n",
            "Ending task 0 \n",
            "Ending task 3 Ending task 2 \n",
            "\n",
            "Ending task 4 \n",
            "All tasks completed\n"
          ]
        }
      ]
    },
    {
      "cell_type": "markdown",
      "source": [
        "In this example, we define a task function that simulates some work by sleeping for 2 seconds, and we create 5 threads that execute this function concurrently. Each thread prints a message indicating when it starts and ends the task, and we wait for all threads to complete before printing a message indicating that all tasks are completed."
      ],
      "metadata": {
        "id": "sVFK7-L350Vb"
      }
    },
    {
      "cell_type": "markdown",
      "source": [
        "This demonstrates how concurrency allows us to execute multiple tasks simultaneously, making our code more efficient and responsive."
      ],
      "metadata": {
        "id": "wedMNVOh50Vb"
      }
    },
    {
      "cell_type": "markdown",
      "source": [
        "##**Activity: Fill in the blanks**\n",
        "\n",
        "Concurrency refers to the ability to execute multiple tasks or processes simultaneously. This can be achieved through techniques such as ________, asyncio, and ________. With concurrency, multiple tasks can be executed at the same time, but each task is executed on the same ________ or ________. Concurrency allows you to execute tasks in an overlapping manner, which can improve ________ and ________.\n",
        "\n",
        "\n",
        "**Answers:**\n",
        "\n",
        "1. threads\n",
        "2. multiprocessing\n",
        "3. processor\n",
        "4. core\n",
        "5. responsiveness\n",
        "6. throughput"
      ],
      "metadata": {
        "id": "QUtNTRD58htj"
      }
    },
    {
      "cell_type": "markdown",
      "source": [
        "## **Best Practices for Efficient Data Wrangling**"
      ],
      "metadata": {
        "id": "DqI5oDOUdjX_"
      }
    },
    {
      "cell_type": "markdown",
      "source": [
        "Here are some best practices for Efficient Data Wrangling:"
      ],
      "metadata": {
        "id": "sGn1AMIPeLpU"
      }
    },
    {
      "cell_type": "markdown",
      "source": [
        "**🔍 1. Understand the Data:**\n",
        "\n",
        "Before starting any data wrangling task, it is important to thoroughly understand the data and its structure. This includes knowing the data types, column names, missing values, and any potential outliers. This can help in identifying the appropriate data cleaning and transformation techniques needed.\n",
        "\n",
        "**📝 2. Document the Process:**\n",
        "\n",
        "Keeping track of the steps taken during data wrangling can be helpful for future reference and troubleshooting. This includes documenting the data sources, cleaning and transformation techniques used, and any assumptions made during the process.\n",
        "\n",
        "**🚀 3. Use Vectorization:**\n",
        "\n",
        "Vectorization is a technique that allows for performing operations on an entire array or data frame at once, instead of looping through each element. This can significantly improve the performance of data wrangling tasks, especially when dealing with large datasets. Libraries such as NumPy and Pandas provide vectorization capabilities.\n",
        "\n",
        "**💻 4. Utilize Parallelization:**\n",
        "\n",
        "Parallelization is another technique that can improve the efficiency of data wrangling tasks by breaking down the workload into smaller tasks that can be performed simultaneously. Libraries such as Dask and joblib provide parallelization capabilities for data wrangling tasks.\n",
        "\n",
        "**🧹 5. Handle Missing Data:**\n",
        "\n",
        "Missing data can cause issues during data wrangling and analysis. It is important to handle missing data appropriately, either by imputing values or removing observations. Pandas provides methods for handling missing data, such as fillna() and dropna().\n",
        "\n",
        "**🤖 6. Automate Where Possible:**\n",
        "\n",
        "Automation can help to streamline repetitive data wrangling tasks and reduce the potential for errors. Tools such as Python scripts and workflows in tools like Apache Airflow can help automate data wrangling processes.\n",
        "\n",
        "**📊 7. Test and Validate:**\n",
        "\n",
        "Testing and validating the data wrangling process is important to ensure accuracy and reliability of the final output. This can include checking for data consistency, confirming data types, and validating the final output against expectations.\n",
        "\n",
        "\n",
        "Example of using vectorization in Pandas:"
      ],
      "metadata": {
        "id": "OrRJCUXtaogm"
      }
    },
    {
      "cell_type": "code",
      "source": [
        "import pandas as pd\n",
        "\n",
        "# Create a sample data frame\n",
        "df = pd.DataFrame({'A': [1, 2, 3], 'B': [4, 5, 6]})\n",
        "\n",
        "# Multiply each element in column A by 2 using vectorization\n",
        "df['A'] = df['A'] * 2\n",
        "\n",
        "# Print the updated data frame\n",
        "print(df)"
      ],
      "metadata": {
        "colab": {
          "base_uri": "https://localhost:8080/"
        },
        "id": "XDxMonDmChmj",
        "outputId": "237ae6dc-d4b1-4f8a-c15f-943138ccc94b"
      },
      "execution_count": null,
      "outputs": [
        {
          "output_type": "stream",
          "name": "stdout",
          "text": [
            "   A  B\n",
            "0  2  4\n",
            "1  4  5\n",
            "2  6  6\n"
          ]
        }
      ]
    },
    {
      "cell_type": "markdown",
      "source": [
        "# **✅ Summary ✅**"
      ],
      "metadata": {
        "id": "mNiFWmlVZ88w"
      }
    },
    {
      "cell_type": "markdown",
      "source": [
        "👋 Hi students! Now that we've covered the importance of code optimization in data wrangling, techniques for optimization, best practices for efficient data wrangling, and strategies for parallel and distributed data wrangling using some wonderful emojis, let's review what we've learned. 📊\n",
        "\n",
        "🤖 Code optimization is important in data wrangling as it can improve the performance of your code and speed up processing times.\n",
        "\n",
        "🐍 Techniques for code optimization include using vectorized operations, avoiding loops, reducing memory usage, and parallel processing.\n",
        "\n",
        "📚 Best practices for efficient data wrangling include understanding your data, keeping your code clean, and collaborating with others.\n",
        "\n",
        "💻 Strategies for parallel and distributed data wrangling involve using multiple processors or distributed computing resources to speed up processing times and improve the performance of your code.\n",
        "\n",
        "📈 By using these techniques and best practices, you can optimize your data wrangling code and make it more efficient, allowing you to work with large datasets and perform complex analyses more easily.\n",
        "\n",
        "📝 It's important to keep in mind that code optimization is an ongoing process and requires continuous effort and improvement. By constantly seeking ways to improve your code and staying up-to-date with the latest techniques and tools, you can become an expert in data wrangling and analysis.\n",
        "\n",
        "🐍 Keep practicing and applying these techniques and best practices, and you'll be well on your way to mastering data wrangling in no time!\n"
      ],
      "metadata": {
        "id": "tEOWbMIlZ_kH"
      }
    },
    {
      "cell_type": "markdown",
      "source": [
        "###<b>Shortcomings</b>\n",
        "\n",
        "\n",
        "🕰️ Time-consuming: Code optimization can be time-consuming, especially when working with large datasets. It can require significant effort and trial-and-error to find the most efficient code.\n",
        "\n",
        "🤔 Requires expertise: Code optimization requires a deep understanding of programming concepts and techniques. It may require additional training or education to become proficient in these skills.\n",
        "\n",
        "📈 Diminishing returns: There may be a point where further optimization doesn't significantly improve performance. It's important to balance optimization efforts with the amount of time and resources required.\n",
        "\n",
        "🐌 Limited hardware: Some techniques for optimization, such as parallel processing, require specialized hardware. If you don't have access to this hardware, you may be limited in your optimization efforts.\n",
        "\n",
        "💻 Compatibility issues: Some optimization techniques may not be compatible with all systems or libraries. It's important to test your code on multiple systems to ensure compatibility.\n"
      ],
      "metadata": {
        "id": "lEJlHV202-ez"
      }
    },
    {
      "cell_type": "markdown",
      "source": [
        "### **Best Practices/Tips**\n",
        "🤔 Understand your data: Before you start working with your data, it's important to understand its structure, format, and any potential issues that may arise. This can help you optimize your code more effectively and avoid potential errors.\n",
        "\n",
        "🐍 Use vectorized operations: Vectorized operations can perform multiple calculations simultaneously, making them much faster than looping over individual elements. Use them whenever possible to optimize your code and improve performance.\n",
        "\n",
        "🧹 Keep your code clean: Writing clean, well-organized code can improve the readability of your code and make it easier to optimize. Use consistent naming conventions, comments, and indentation to keep your code organized and understandable.\n",
        "\n",
        "📏 Reduce memory usage: Large datasets can quickly use up memory, leading to slow performance or even crashes. Use techniques such as data compression or chunking to reduce the amount of memory used by your code and improve its performance.\n",
        "\n",
        "🤖 Use parallel processing: By using multiple cores or processors to run your code, you can speed up processing times and improve the performance of your code. Consider using libraries such as Dask or PySpark to enable parallel processing.\n",
        "\n",
        "📚 Collaborate with others: Collaboration can help you identify potential issues with your code and find new ways to optimize it. Share your code with other team members and seek feedback to improve its performance.\n"
      ],
      "metadata": {
        "id": "wV31TCvh92rH"
      }
    },
    {
      "cell_type": "markdown",
      "source": [
        "# **➕ Enhance your Knowledge ➕**"
      ],
      "metadata": {
        "id": "vHZpE9CeaAG-"
      }
    },
    {
      "cell_type": "markdown",
      "source": [
        "###**Mnemonic**\n",
        "\n",
        "👋 Hi there! Let me tell you the story of CoderWorlds, a data analytics company that used the concepts of understanding the importance of code optimization in data wrangling, techniques for code optimization, best practices for efficient data wrangling, and strategies for parallel and distributed data wrangling using some wonderful emojis.\n",
        "\n",
        "📈 CoderWorlds specializes in data analytics and works with a wide range of clients from various industries. They understand the importance of code optimization in data wrangling and continuously seek ways to improve the performance of their code.\n",
        "\n",
        "🐍 To achieve this, CoderWorlds uses techniques such as vectorized operations, avoiding loops, reducing memory usage, and parallel processing to optimize their code and speed up processing times.\n",
        "\n",
        "📚 They also follow best practices for efficient data wrangling, such as understanding their data, keeping their code clean, and collaborating with other team members.\n",
        "\n",
        "💻 In addition, CoderWorlds uses strategies for parallel and distributed data wrangling, such as using multiple processors or distributed computing resources, to further speed up processing times and improve the performance of their code.\n",
        "\n",
        "🚀 Through their commitment to code optimization and efficient data wrangling practices, CoderWorlds has been able to provide their clients with high-quality data analysis services, enabling them to make better business decisions based on accurate and reliable data.\n",
        "\n",
        "📝 By following in the footsteps of CoderWorlds and utilizing these concepts, you too can optimize your data wrangling code and improve the performance of your data analysis, making it easier to work with large datasets and perform complex analyses.\n",
        "\n",
        "🐍 Keep practicing and applying these techniques and best practices, and you'll be well on your way to becoming an expert in data wrangling and analysis, just like CoderWorlds!\n"
      ],
      "metadata": {
        "id": "iKCmcguUaCvp"
      }
    },
    {
      "cell_type": "markdown",
      "source": [
        "##**Additional References**##\n",
        "\n",
        "* https://www.analyticsvidhya.com/blog/2021/08/lets-understand-all-about-data-wrangling/\n",
        "\n",
        "* https://www.analyticsvidhya.com/blog/2019/09/4-methods-optimize-python-code-data-science/"
      ],
      "metadata": {
        "id": "N8DIxqrVg3cV"
      }
    },
    {
      "cell_type": "markdown",
      "source": [
        "# **Try it Yourself 📃**\n",
        "\n",
        "Are you ready to put your coding skills to the test and gain practical knowledge? We have some exciting coding questions waiting for you to solve! 🚀\n",
        "\n",
        "Your task is to attempt the coding questions associated with this lesson. These challenges have been thoughtfully designed to reinforce your understanding of the concepts covered in the course. You can find them in your dashboard under this lesson.\n",
        "\n",
        "Don't be shy! Share your findings, experiences, and any insights you gained while tackling these coding questions on the AlmaBetter community platform. Engage in discussions, help each other out, and celebrate your victories together!\n",
        "\n",
        "Remember, coding is not just about learning theory; it's about applying that knowledge to solve real-world problems. So, dive in, experiment, and have fun while honing your coding skills!\n",
        "Let's learn, grow, and inspire each other as a vibrant community of passionate learners. Happy coding! 💻 😊"
      ],
      "metadata": {
        "id": "svrZ_0rGthdJ"
      }
    },
    {
      "cell_type": "markdown",
      "source": [
        "## **Task 1:**"
      ],
      "metadata": {
        "id": "ah_Sp4RwhVF_"
      }
    },
    {
      "cell_type": "markdown",
      "source": [
        "### **Activity 1:**\n"
      ],
      "metadata": {
        "id": "8EVuEPz55eZs"
      }
    },
    {
      "cell_type": "markdown",
      "source": [
        "Can you use NumPy to find the sum of squares of the first 10 positive integers without using any loops?"
      ],
      "metadata": {
        "id": "knddNpdv5eZt"
      }
    },
    {
      "cell_type": "markdown",
      "source": [
        "**🤔 Hint:**\n",
        "\n",
        "*The sum of squares of the first n positive integers can be computed using the formula n(n+1)(2n+1)/6.*"
      ],
      "metadata": {
        "id": "EW1Zl0J_5eZu"
      }
    },
    {
      "cell_type": "code",
      "source": [
        "# Your code here\n",
        "import numpy as np\n",
        "\n",
        "a = np.arange(1,10)\n",
        "print(a**2)\n",
        "print(np.sum(a**2))\n"
      ],
      "metadata": {
        "id": "Sv7aYkI2aEKX",
        "colab": {
          "base_uri": "https://localhost:8080/"
        },
        "outputId": "900c114a-6bde-4d23-af87-cf2de27c297a"
      },
      "execution_count": null,
      "outputs": [
        {
          "output_type": "stream",
          "name": "stdout",
          "text": [
            "[ 1  4  9 16 25 36 49 64 81]\n",
            "285\n"
          ]
        }
      ]
    },
    {
      "cell_type": "markdown",
      "source": [
        "### **Activity 2**"
      ],
      "metadata": {
        "id": "eqqo0VT35llM"
      }
    },
    {
      "cell_type": "markdown",
      "source": [
        "Suppose you have a function that takes a long time to run and returns a dictionary. Can you use Joblib to cache the results of this function so that subsequent calls to the function with the same arguments return the cached value without running the function again?"
      ],
      "metadata": {
        "id": "7S_CND6O5llN"
      }
    },
    {
      "cell_type": "markdown",
      "source": [
        "**🤔 Hint:**\n",
        "\n",
        "*Use the Memory object from Joblib to create a memory cache for the function.*\n",
        "\n"
      ],
      "metadata": {
        "id": "0EBKGk705llO"
      }
    },
    {
      "cell_type": "code",
      "source": [
        "# Your code here\n",
        "from joblib import Memory\n",
        "\n",
        "mem = Memory(location='cache')\n",
        "\n",
        "@mem.cache\n",
        "def create_dict():\n",
        "    your_dict = {}\n",
        "    for i in range(10):\n",
        "        your_dict[i] = str(i)\n",
        "    return your_dict\n",
        "numbers = create_dict()\n",
        "print(numbers)\n",
        "numbers = create_dict()\n",
        "print(numbers)"
      ],
      "metadata": {
        "id": "1wwMzZ2NaJ1d",
        "colab": {
          "base_uri": "https://localhost:8080/"
        },
        "outputId": "d7430452-5feb-4f47-c71e-791eb8be1bcb"
      },
      "execution_count": 73,
      "outputs": [
        {
          "output_type": "stream",
          "name": "stdout",
          "text": [
            "________________________________________________________________________________\n",
            "[Memory] Calling __main__--content-<ipython-input-ee0ca394ac60>.create_dict...\n",
            "create_dict()\n",
            "______________________________________________________create_dict - 0.0s, 0.0min\n",
            "{0: '0', 1: '1', 2: '2', 3: '3', 4: '4', 5: '5', 6: '6', 7: '7', 8: '8', 9: '9'}\n",
            "{0: '0', 1: '1', 2: '2', 3: '3', 4: '4', 5: '5', 6: '6', 7: '7', 8: '8', 9: '9'}\n"
          ]
        }
      ]
    },
    {
      "cell_type": "markdown",
      "source": [
        "###<b>Activity 3"
      ],
      "metadata": {
        "id": "g5T7494v5tpq"
      }
    },
    {
      "cell_type": "markdown",
      "source": [
        "Can you use Pandarallel to parallelize a Pandas apply operation on a DataFrame in Google Colab?\n",
        "\n",
        "**Instructions:**\n",
        "\n",
        "1. Create a Pandas DataFrame containing a list of integers.\n",
        "\n",
        "2. Define a custom function that squares a number.\n",
        "\n",
        "3. Use Pandas apply method to apply the custom function to each element of the DataFrame.\n",
        "\n",
        "4. Parallelize the apply operation using Pandarallel.\n",
        "\n",
        "5. Compare the execution times of the apply operation with and without Pandarallel.\n",
        "\n",
        "**Hints:**\n",
        "\n",
        "1. Use the \"pandarallel\" library to enable parallel processing.\n",
        "\n",
        "2. Use the \"apply\" method with the \"parallel=True\" option to parallelize the apply operation.\n"
      ],
      "metadata": {
        "id": "yLg_xU_55tpr"
      }
    },
    {
      "cell_type": "code",
      "source": [
        "# Your code here\n",
        "import pandas as pd\n",
        "\n",
        "%time\n",
        "list1 = [1,2,3,4,5,6,7]\n",
        "df = pd.DataFrame(list1,columns=['Roll'])\n",
        "df\n",
        "\n",
        "def square_num(num):\n",
        "  return num**2\n",
        "result = df.apply(square_num)\n",
        "print(result)\n"
      ],
      "metadata": {
        "id": "Gij6bzH4aOEF",
        "colab": {
          "base_uri": "https://localhost:8080/"
        },
        "outputId": "15eb842f-e88f-4a52-8442-a91cab1971af"
      },
      "execution_count": 78,
      "outputs": [
        {
          "output_type": "stream",
          "name": "stdout",
          "text": [
            "CPU times: user 2 µs, sys: 0 ns, total: 2 µs\n",
            "Wall time: 5.72 µs\n",
            "   Roll\n",
            "0     1\n",
            "1     4\n",
            "2     9\n",
            "3    16\n",
            "4    25\n",
            "5    36\n",
            "6    49\n"
          ]
        }
      ]
    },
    {
      "cell_type": "code",
      "source": [
        "import pandas as pd\n",
        "from pandarallel import pandarallel\n",
        "\n",
        "pandarallel.initialize(nb_workers=5,progress_bar =True)\n",
        "# pandarallel.initialize(nb_worker=5,progress_bar=True)\n",
        "%time\n",
        "def square_num(num):\n",
        "  res = num**2\n",
        "  return res\n",
        "result = df.parallel_apply(square_num)\n",
        "print(result)\n",
        "\n",
        "list1 = [1,2,3,4,5,6,7]\n",
        "df = pd.DataFrame(list1,columns=['Roll'])\n",
        "\n"
      ],
      "metadata": {
        "colab": {
          "base_uri": "https://localhost:8080/",
          "height": 264,
          "referenced_widgets": [
            "21792355742d4efbb06868b9a2486228",
            "36c631781c844592b1f4850e1ce8c9fb",
            "1bc888a4790b433bbe0c52e802d40d8e",
            "60b8b5ea0839410d8045ab3498f84b85",
            "73a15b8bb17347458677ecb9ae2bc5d7",
            "20fa897d8e4940198d66200d1c9da3c3",
            "3bf2efef8770439f81b103bc557dcc46",
            "9556044660bb4f688e115d1aa12e432a",
            "b50c5855525b4b31aab1193ae1028724",
            "81727de74d1d413999a20d49cd7e0c35"
          ]
        },
        "id": "VrWuxB99xmXu",
        "outputId": "e9875a09-fffd-43fa-a93e-80ae65671681"
      },
      "execution_count": 83,
      "outputs": [
        {
          "output_type": "stream",
          "name": "stdout",
          "text": [
            "INFO: Pandarallel will run on 5 workers.\n",
            "INFO: Pandarallel will use Memory file system to transfer data between the main process and workers.\n",
            "CPU times: user 3 µs, sys: 0 ns, total: 3 µs\n",
            "Wall time: 8.58 µs\n"
          ]
        },
        {
          "output_type": "display_data",
          "data": {
            "text/plain": [
              "VBox(children=(HBox(children=(IntProgress(value=0, description='0.00%', max=7), Label(value='0 / 7'))),))"
            ],
            "application/vnd.jupyter.widget-view+json": {
              "version_major": 2,
              "version_minor": 0,
              "model_id": "21792355742d4efbb06868b9a2486228"
            }
          },
          "metadata": {}
        },
        {
          "output_type": "stream",
          "name": "stdout",
          "text": [
            "   Roll\n",
            "0     1\n",
            "1     4\n",
            "2     9\n",
            "3    16\n",
            "4    25\n",
            "5    36\n",
            "6    49\n"
          ]
        }
      ]
    },
    {
      "cell_type": "markdown",
      "source": [
        "###**Activity 4: Square Array Elements:**\n",
        "You are given a list of numbers. You need to create a new list such that each element in the new list is the square of the corresponding element in the original list, but only for the elements that are greater than or equal to 5.\n",
        "\n",
        "For example, if the original list is [2, 4, 6, 8, 10], the new list would be [2, 4, 36, 64, 100].\n",
        "\n",
        "Write a Python function that takes in the original list and returns the new list using numpy vectorization.\n",
        "\n",
        "![Square array activity.png](data:image/png;base64,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)"
      ],
      "metadata": {
        "id": "Q7686vEbthpm"
      }
    },
    {
      "cell_type": "markdown",
      "source": [
        "👉 **Instructions:**\n",
        "\n",
        "1. Convert the given list to a numpy array using the numpy.array() function.\n",
        "2. Create a boolean mask for the array using the condition that elements should be greater than or equal to 5.\n",
        "3. Use the boolean mask to select the elements that satisfy the condition.\n",
        "4. Square the selected elements using the numpy.power() or the ** operator.\n",
        "5. Return the modified list."
      ],
      "metadata": {
        "id": "0scuZhjE4pfo"
      }
    },
    {
      "cell_type": "code",
      "source": [
        "# Import numpy\n",
        "import numpy as np\n",
        "import pandas as pd\n",
        "    # Convert the list to a numpy array\n",
        "list1 =[1,2,3,4,5,6,7,8]\n",
        "np.array(list1)\n",
        "df = pd.DataFrame(list1,columns = ['num'])\n",
        "df2= df[df['num'] >=5]**2\n",
        "df1 = pd.concat(df,df2,axis = 0)\n",
        "    # Square the selected elements"
      ],
      "metadata": {
        "id": "e__PiYT9twe2",
        "colab": {
          "base_uri": "https://localhost:8080/",
          "height": 414
        },
        "outputId": "d38e7fe3-6801-41cd-f467-40081a856411"
      },
      "execution_count": 108,
      "outputs": [
        {
          "output_type": "stream",
          "name": "stderr",
          "text": [
            "<ipython-input-108-a0c7c0887fa0>:9: FutureWarning: In a future version of pandas all arguments of concat except for the argument 'objs' will be keyword-only.\n",
            "  df1 = pd.concat(df,df2,axis = 0)\n"
          ]
        },
        {
          "output_type": "error",
          "ename": "TypeError",
          "evalue": "ignored",
          "traceback": [
            "\u001b[0;31m---------------------------------------------------------------------------\u001b[0m",
            "\u001b[0;31mTypeError\u001b[0m                                 Traceback (most recent call last)",
            "\u001b[0;32m<ipython-input-108-a0c7c0887fa0>\u001b[0m in \u001b[0;36m<cell line: 9>\u001b[0;34m()\u001b[0m\n\u001b[1;32m      7\u001b[0m \u001b[0mdf\u001b[0m \u001b[0;34m=\u001b[0m \u001b[0mpd\u001b[0m\u001b[0;34m.\u001b[0m\u001b[0mDataFrame\u001b[0m\u001b[0;34m(\u001b[0m\u001b[0mlist1\u001b[0m\u001b[0;34m,\u001b[0m\u001b[0mcolumns\u001b[0m \u001b[0;34m=\u001b[0m \u001b[0;34m[\u001b[0m\u001b[0;34m'num'\u001b[0m\u001b[0;34m]\u001b[0m\u001b[0;34m)\u001b[0m\u001b[0;34m\u001b[0m\u001b[0;34m\u001b[0m\u001b[0m\n\u001b[1;32m      8\u001b[0m \u001b[0mdf2\u001b[0m\u001b[0;34m=\u001b[0m \u001b[0mdf\u001b[0m\u001b[0;34m[\u001b[0m\u001b[0mdf\u001b[0m\u001b[0;34m[\u001b[0m\u001b[0;34m'num'\u001b[0m\u001b[0;34m]\u001b[0m \u001b[0;34m>=\u001b[0m\u001b[0;36m5\u001b[0m\u001b[0;34m]\u001b[0m\u001b[0;34m**\u001b[0m\u001b[0;36m2\u001b[0m\u001b[0;34m\u001b[0m\u001b[0;34m\u001b[0m\u001b[0m\n\u001b[0;32m----> 9\u001b[0;31m \u001b[0mdf1\u001b[0m \u001b[0;34m=\u001b[0m \u001b[0mpd\u001b[0m\u001b[0;34m.\u001b[0m\u001b[0mconcat\u001b[0m\u001b[0;34m(\u001b[0m\u001b[0mdf\u001b[0m\u001b[0;34m,\u001b[0m\u001b[0mdf2\u001b[0m\u001b[0;34m,\u001b[0m\u001b[0maxis\u001b[0m \u001b[0;34m=\u001b[0m \u001b[0;36m0\u001b[0m\u001b[0;34m)\u001b[0m\u001b[0;34m\u001b[0m\u001b[0;34m\u001b[0m\u001b[0m\n\u001b[0m\u001b[1;32m     10\u001b[0m     \u001b[0;31m# Square the selected elements\u001b[0m\u001b[0;34m\u001b[0m\u001b[0;34m\u001b[0m\u001b[0m\n",
            "\u001b[0;32m/usr/local/lib/python3.10/dist-packages/pandas/util/_decorators.py\u001b[0m in \u001b[0;36mwrapper\u001b[0;34m(*args, **kwargs)\u001b[0m\n\u001b[1;32m    329\u001b[0m                     \u001b[0mstacklevel\u001b[0m\u001b[0;34m=\u001b[0m\u001b[0mfind_stack_level\u001b[0m\u001b[0;34m(\u001b[0m\u001b[0;34m)\u001b[0m\u001b[0;34m,\u001b[0m\u001b[0;34m\u001b[0m\u001b[0;34m\u001b[0m\u001b[0m\n\u001b[1;32m    330\u001b[0m                 )\n\u001b[0;32m--> 331\u001b[0;31m             \u001b[0;32mreturn\u001b[0m \u001b[0mfunc\u001b[0m\u001b[0;34m(\u001b[0m\u001b[0;34m*\u001b[0m\u001b[0margs\u001b[0m\u001b[0;34m,\u001b[0m \u001b[0;34m**\u001b[0m\u001b[0mkwargs\u001b[0m\u001b[0;34m)\u001b[0m\u001b[0;34m\u001b[0m\u001b[0;34m\u001b[0m\u001b[0m\n\u001b[0m\u001b[1;32m    332\u001b[0m \u001b[0;34m\u001b[0m\u001b[0m\n\u001b[1;32m    333\u001b[0m         \u001b[0;31m# error: \"Callable[[VarArg(Any), KwArg(Any)], Any]\" has no\u001b[0m\u001b[0;34m\u001b[0m\u001b[0;34m\u001b[0m\u001b[0m\n",
            "\u001b[0;31mTypeError\u001b[0m: concat() got multiple values for argument 'axis'"
          ]
        }
      ]
    },
    {
      "cell_type": "markdown",
      "source": [
        "## **Task 2:**"
      ],
      "metadata": {
        "id": "9CCw4rPwhTEg"
      }
    },
    {
      "cell_type": "markdown",
      "source": [
        "####**🔵 Discuss one of the methods for code optimization or a task with your peers in the AlmaBetter Community Platform.**"
      ],
      "metadata": {
        "id": "RabMOABwZkxK"
      }
    }
  ]
}